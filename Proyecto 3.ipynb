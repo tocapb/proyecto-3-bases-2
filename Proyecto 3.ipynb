{
 "cells": [
  {
   "cell_type": "markdown",
   "metadata": {},
   "source": [
    "# Descripción del sistema\n",
    "El sistema consiste en el desarrollo de 5 gráficos diferentes, estos gráficos son realizados con dos conjuntos de datos de dos entidades costarricenses diferentes que son el INEC y el OIJ, ambos conjuntos de datos fueron descargados en formato csv y son almacenados como dataframes utilizando la función de spark en python, además de estos los datos son limpiados ya que tienen incongruencias en su formato, una vez con los datos limpios se envían los mismo a postgres y se grafican"
   ]
  },
  {
   "cell_type": "code",
   "execution_count": 5,
   "metadata": {},
   "outputs": [],
   "source": [
    "#Bibliotecas necesarias para el uso de spark\n",
    "from pyspark.sql import SparkSession\n",
    "from pyspark.files import SparkFiles\n",
    "from pyspark.sql import functions as F"
   ]
  },
  {
   "cell_type": "code",
   "execution_count": 6,
   "metadata": {},
   "outputs": [],
   "source": [
    "#Se guardan ambos archivos como dataframes\n",
    "oij_csv=spark.read.format(\"csv\").option(\"header\",\"true\").option(\"inferSchema\",\"true\").load(\"Estadisticas.csv\")\n",
    "inec_csv=spark.read.format(\"csv\").option(\"header\",\"true\").option(\"inferSchema\",\"true\").load(\"reempleocenso2011-22.csv\")"
   ]
  },
  {
   "cell_type": "code",
   "execution_count": 7,
   "metadata": {},
   "outputs": [
    {
     "name": "stdout",
     "output_type": "stream",
     "text": [
      "root\n",
      " |-- Delito: string (nullable = true)\n",
      " |-- SubDelito: string (nullable = true)\n",
      " |-- Fecha: string (nullable = true)\n",
      " |-- Hora: string (nullable = true)\n",
      " |-- Victima: string (nullable = true)\n",
      " |-- SubVictima: string (nullable = true)\n",
      " |-- Edad: string (nullable = true)\n",
      " |-- Genero: string (nullable = true)\n",
      " |-- Nacionalidad: string (nullable = true)\n",
      " |-- Provincia: string (nullable = true)\n",
      " |-- Canton: string (nullable = true)\n",
      " |-- Distrito: string (nullable = true)\n",
      "\n"
     ]
    }
   ],
   "source": [
    "#Se imprimen ambos esquemas para observar el formato en el que vienen los datos, esto servirá para ajustar\n",
    "#el dataframe a lo que necesitemos\n",
    "#este de abajo será el formato del OIJ\n",
    "oij_csv.printSchema()"
   ]
  },
  {
   "cell_type": "code",
   "execution_count": 8,
   "metadata": {},
   "outputs": [
    {
     "name": "stdout",
     "output_type": "stream",
     "text": [
      "root\n",
      " |-- ProvinciaCantonDistrito: string (nullable = true)\n",
      " |-- PoblacionMayor15: integer (nullable = true)\n",
      " |-- TasaNetaParticipacion: double (nullable = true)\n",
      " |-- TasaOcupacion: double (nullable = true)\n",
      " |-- TasaDesempleoAbierto: string (nullable = true)\n",
      " |-- PorcentajeEconomicamenteInactivo: double (nullable = true)\n",
      " |-- RelacionDependenciaEconomica: double (nullable = true)\n",
      "\n"
     ]
    }
   ],
   "source": [
    "#Este otro formato correspone al INEC\n",
    "inec_csv.printSchema()"
   ]
  },
  {
   "cell_type": "code",
   "execution_count": 9,
   "metadata": {},
   "outputs": [],
   "source": [
    "#Se registran ambos dataframe como tablas de SQL, esto nos permite realizar consultas sql por medio de sqlContext\n",
    "sqlContext.registerDataFrameAsTable(oij_csv, \"oij\")\n",
    "sqlContext.registerDataFrameAsTable(inec_csv, \"inec\")"
   ]
  },
  {
   "cell_type": "code",
   "execution_count": 10,
   "metadata": {},
   "outputs": [],
   "source": [
    "'''\n",
    "Entradas: Un entero\n",
    "Salidas: Un dataframe\n",
    "Descripción general: Se encarga de validar cual conjunto de datos se debe enviar \n",
    "y realiza la consulta SQL correspondiente la cual removerá espacios en blanco\n",
    "'''\n",
    "def quitaEspacios(ind):\n",
    "    #Este if es de validación para enviar datos de INEC o del OIJ\n",
    "    #por medio de sqlContext se utiliza la función TRIM que acorta todos los espacios en blanco\n",
    "    #almacenados antes o después de nuestros datos\n",
    "    if ind == 1:\n",
    "        return sqlContext.sql(\"SELECT Delito, SubDelito,Hora, Fecha, Victima, SubVictima, Edad, Genero, Nacionalidad, Provincia,Canton, TRIM(Distrito) as Distrito from oij\")\n",
    "    else:\n",
    "        return sqlContext.sql(\"SELECT TRIM(ProvinciaCantonDistrito) AS ProvinciaCantonDistrito, PoblacionMayor15, TasaNetaParticipacion, TasaOcupacion, TasaDesempleoAbierto, PorcentajeEconomicamenteInactivo, RelacionDependenciaEconomica from inec\")"
   ]
  },
  {
   "cell_type": "code",
   "execution_count": 11,
   "metadata": {},
   "outputs": [],
   "source": [
    "#Simplemente se llama a la función con el número entero correspondiente y se registra el nuevo dataframe\n",
    "#como la tabla almacenada anteriormente en el sistema, esto se aplica para ambos conjuntos de datos\n",
    "oij = quitaEspacios(1)\n",
    "sqlContext.registerDataFrameAsTable(oij, \"oij\")\n",
    "inec = quitaEspacios(2)\n",
    "sqlContext.registerDataFrameAsTable(inec, \"inec\")"
   ]
  },
  {
   "cell_type": "code",
   "execution_count": 12,
   "metadata": {},
   "outputs": [],
   "source": [
    "'''\n",
    "Entradas: Un entero\n",
    "Salidas: Un dataframe\n",
    "Descripción general: Se encarga de validar cual conjunto de datos se debe enviar \n",
    "y realiza la consulta SQL correspondiente la cual pasará los datos a minúscula\n",
    "'''\n",
    "def minusculas(ind):\n",
    "    #Este if es de validación para enviar datos de INEC o del OIJ\n",
    "    #por medio de sqlContext se utiliza la función LOWER que se encarga de pasar los datos a minúscula\n",
    "    if ind == 1:\n",
    "        return sqlContext.sql(\"SELECT Delito, SubDelito,Hora, Fecha, Victima, SubVictima, Edad, Genero, Nacionalidad, Provincia,Canton, LOWER(Distrito) as Distrito from oij\")\n",
    "    else:\n",
    "        return sqlContext.sql(\"SELECT LOWER(ProvinciaCantonDistrito) AS ProvinciaCantonDistrito, PoblacionMayor15, TasaNetaParticipacion, TasaOcupacion, TasaDesempleoAbierto, PorcentajeEconomicamenteInactivo, RelacionDependenciaEconomica from inec\")"
   ]
  },
  {
   "cell_type": "code",
   "execution_count": 13,
   "metadata": {},
   "outputs": [],
   "source": [
    "#Se llama a la función con el número entero correspondiente y se registra el nuevo dataframe\n",
    "#como la tabla almacenada anteriormente en el sistema, se aplica a ambos conjuntos de datos\n",
    "oij = minusculas(1)\n",
    "sqlContext.registerDataFrameAsTable(oij, \"oij\")\n",
    "inec = minusculas(2)\n",
    "sqlContext.registerDataFrameAsTable(inec, \"inec\")"
   ]
  },
  {
   "cell_type": "code",
   "execution_count": 14,
   "metadata": {},
   "outputs": [],
   "source": [
    "'''\n",
    "Entradas: No posee\n",
    "Salidas: Un dataframe\n",
    "Descripción general: Se encarga de hacer la consulta sql para mostrar los datos del OIJ\n",
    "que no coinciden con ningún dato del INEC\n",
    "'''\n",
    "def sacaNoExistentes():\n",
    "    #Esta consulta se encarga de sacar los distintos por medio del uso de DISTINCT que no se encuentren\n",
    "    #en la consulta realizada a los datos del INEC\n",
    "    return sqlContext.sql(\"SELECT DISTINCT(Distrito) FROM oij WHERE NOT EXISTS(SELECT 1 FROM inec WHERE inec.ProvinciaCantonDistrito = oij.Distrito)\") "
   ]
  },
  {
   "cell_type": "code",
   "execution_count": 25,
   "metadata": {},
   "outputs": [],
   "source": [
    "#Llama a la función y lo almacena como un dataframe nuevo y una tabla nueva\n",
    "noCoinciden = sacaNoExistentes()\n",
    "sqlContext.registerDataFrameAsTable(noCoinciden, \"noCoincidencias\")"
   ]
  },
  {
   "cell_type": "code",
   "execution_count": 26,
   "metadata": {},
   "outputs": [
    {
     "name": "stdout",
     "output_type": "stream",
     "text": [
      "+-------------+\n",
      "|     Distrito|\n",
      "+-------------+\n",
      "|      guacimo|\n",
      "|         null|\n",
      "|    san ramon|\n",
      "|        canas|\n",
      "|        limon|\n",
      "|perez zeledon|\n",
      "|        tibas|\n",
      "|    sarapiqui|\n",
      "+-------------+\n",
      "\n"
     ]
    }
   ],
   "source": [
    "#Se muestran los datos que no coincidieron, principalmente fue porque el OIJ utiliza abreviaciones y no usa tildes,\n",
    "#el INEC no\n",
    "noCoinciden.show()"
   ]
  },
  {
   "cell_type": "code",
   "execution_count": 27,
   "metadata": {},
   "outputs": [],
   "source": [
    "'''\n",
    "Entradas: No posee\n",
    "Salidas: Un dataframe\n",
    "Descripción general: Se encarga de contar los elementos de la tabla de noCoincidencias\n",
    "estos elementos corresponen a todos aquellos distritos del OIJ que no corresponden a distritos del INEC\n",
    "'''\n",
    "def cuentaNoExistentes():\n",
    "    return sqlContext.sql(\"SELECT COUNT(*) as num FROM noCoincidencias\") "
   ]
  },
  {
   "cell_type": "code",
   "execution_count": 28,
   "metadata": {},
   "outputs": [],
   "source": [
    "#Almacena el dataframe con el dato\n",
    "numNoCoinciden = cuentaNoExistentes()"
   ]
  },
  {
   "cell_type": "code",
   "execution_count": 29,
   "metadata": {},
   "outputs": [
    {
     "name": "stdout",
     "output_type": "stream",
     "text": [
      "+---+\n",
      "|num|\n",
      "+---+\n",
      "|  8|\n",
      "+---+\n",
      "\n"
     ]
    }
   ],
   "source": [
    "#Se despliega el número correspondiente\n",
    "numNoCoinciden.show()"
   ]
  },
  {
   "cell_type": "code",
   "execution_count": 20,
   "metadata": {},
   "outputs": [],
   "source": [
    "#Se modifican datos del dataframe del INEC para que correspondan a algunos datos del OIJ\n",
    "#esto se encarga de buscar por columna los datos que tengan almaceanado los nombres de la manera indicada\n",
    "#luego se modifican por sus correpondientes en el dataframe del OIJ\n",
    "inec = inec.withColumn(\"ProvinciaCantonDistrito\", F.when(F.col(\"ProvinciaCantonDistrito\")=='pococí','pococi').otherwise(F.col(\"ProvinciaCantonDistrito\")))\n",
    "inec = inec.withColumn(\"ProvinciaCantonDistrito\", F.when(F.col(\"ProvinciaCantonDistrito\")=='la unión','la union').otherwise(F.col(\"ProvinciaCantonDistrito\")))\n",
    "inec = inec.withColumn(\"ProvinciaCantonDistrito\", F.when(F.col(\"ProvinciaCantonDistrito\")=='belén','belen').otherwise(F.col(\"ProvinciaCantonDistrito\")))\n",
    "inec = inec.withColumn(\"ProvinciaCantonDistrito\", F.when(F.col(\"ProvinciaCantonDistrito\")=='león cortés castro','leon cortes').otherwise(F.col(\"ProvinciaCantonDistrito\")))\n",
    "inec = inec.withColumn(\"ProvinciaCantonDistrito\", F.when(F.col(\"ProvinciaCantonDistrito\")=='san josé','san jose').otherwise(F.col(\"ProvinciaCantonDistrito\")))\n",
    "#se guarda el dataframe modificado como una tabla\n",
    "sqlContext.registerDataFrameAsTable(inec, \"inec\")"
   ]
  },
  {
   "cell_type": "code",
   "execution_count": 21,
   "metadata": {},
   "outputs": [],
   "source": [
    "#Se integran por medio de un inner join los conjuntos de datos,y se almacenan como un nuevo dataframe\n",
    "#este dataframe será enviado a postgres\n",
    "datosIntegrados = sqlContext.sql(\"SELECT a.Delito, a.SubDelito, a.Hora, a.Fecha, a.Victima, a.SubVictima, a.Edad, a.Genero, a.Nacionalidad, a.Provincia, a.Canton, a.Distrito, b.PoblacionMayor15, b.TasaNetaParticipacion, b.TasaOcupacion, b.TasaDesempleoAbierto, b.PorcentajeEconomicamenteInactivo, b.RelacionDependenciaEconomica FROM oij a INNER JOIN inec b ON a.Distrito = b.ProvinciaCantonDistrito\")\n",
    "#Se guarda el nuevo dataframe como una nueva tabla\n",
    "sqlContext.registerDataFrameAsTable(datosIntegrados, \"datosIntegrados\")"
   ]
  },
  {
   "cell_type": "code",
   "execution_count": 22,
   "metadata": {},
   "outputs": [
    {
     "name": "stdout",
     "output_type": "stream",
     "text": [
      "+------+-------------+-------------------+----------+-----------+----------+--------------------+-------------+------------+----------+----------+-------------+----------------+---------------------+-------------+--------------------+--------------------------------+----------------------------+\n",
      "|Delito|    SubDelito|               Hora|     Fecha|    Victima|SubVictima|                Edad|       Genero|Nacionalidad| Provincia|    Canton|     Distrito|PoblacionMayor15|TasaNetaParticipacion|TasaOcupacion|TasaDesempleoAbierto|PorcentajeEconomicamenteInactivo|RelacionDependenciaEconomica|\n",
      "+------+-------------+-------------------+----------+-----------+----------+--------------------+-------------+------------+----------+----------+-------------+----------------+---------------------+-------------+--------------------+--------------------------------+----------------------------+\n",
      "|ASALTO|  ARMA BLANCA|18:00:00 - 20:59:59|2011-09-19|EDIFICACION|      CAFÉ| INTERNET [EDIFIC...|Mayor de edad|      HOMBRE|COSTA RICA|  ALAJUELA|     alajuela|           34485|                 55.1|         53.4|                 3.1|                            44.9|                         1.3|\n",
      "|ASALTO|  ARMA BLANCA|18:00:00 - 20:59:59|2011-09-19|EDIFICACION|      CAFÉ| INTERNET [EDIFIC...|Mayor de edad|      HOMBRE|COSTA RICA|  ALAJUELA|     alajuela|          195003|                 55.8|         53.9|                 3.5|                            44.2|                         1.3|\n",
      "|ASALTO|  ARMA BLANCA|18:00:00 - 20:59:59|2011-09-19|EDIFICACION|      CAFÉ| INTERNET [EDIFIC...|Mayor de edad|      HOMBRE|COSTA RICA|  ALAJUELA|     alajuela|          632572|                 52.9|         51.3|                 3.0|                            47.1|                         1.5|\n",
      "|ASALTO|ARMA DE FUEGO|18:00:00 - 20:59:59|2011-03-17|EDIFICACION|      CAFÉ| INTERNET [EDIFIC...|Mayor de edad|      HOMBRE|COSTA RICA|   CARTAGO|     oreamuno|           34110|                 53.9|         52.4|                 2.8|                            46.1|                         1.5|\n",
      "|ASALTO|ARMA DE FUEGO|21:00:00 - 23:59:59|2011-06-30|EDIFICACION|      CAFÉ| INTERNET [EDIFIC...|Mayor de edad|      HOMBRE| NICARAGUA|  SAN JOSE| desamparados|           19768|                 57.1|         55.0|                 3.7|                            42.9|                         1.3|\n",
      "|ASALTO|ARMA DE FUEGO|21:00:00 - 23:59:59|2011-06-30|EDIFICACION|      CAFÉ| INTERNET [EDIFIC...|Mayor de edad|      HOMBRE| NICARAGUA|  SAN JOSE| desamparados|           26951|                 59.3|         56.4|                 4.8|                            40.7|                         1.1|\n",
      "|ASALTO|ARMA DE FUEGO|21:00:00 - 23:59:59|2011-06-30|EDIFICACION|      CAFÉ| INTERNET [EDIFIC...|Mayor de edad|      HOMBRE| NICARAGUA|  SAN JOSE| desamparados|          159292|                 57.0|         54.7|                 4.0|                            43.0|                         1.3|\n",
      "|ASALTO|ARMA DE FUEGO|12:00:00 - 14:59:59|2011-08-10|EDIFICACION|      CAFÉ| INTERNET [EDIFIC...|Mayor de edad|      HOMBRE|COSTA RICA|  SAN JOSE|montes de oca|           41561|                 58.8|         57.1|                 2.9|                            41.2|                         1.0|\n",
      "|ASALTO|ARMA DE FUEGO|12:00:00 - 14:59:59|2011-06-28|EDIFICACION|      CAFÉ| INTERNET [EDIFIC...|Mayor de edad|      HOMBRE|COSTA RICA|   CARTAGO|     la union|             968|                 41.8|         41.2|                 1.5|                            58.2|                         2.1|\n",
      "|ASALTO|ARMA DE FUEGO|12:00:00 - 14:59:59|2011-06-28|EDIFICACION|      CAFÉ| INTERNET [EDIFIC...|Mayor de edad|      HOMBRE|COSTA RICA|   CARTAGO|     la union|           75029|                 59.3|         57.3|                 3.4|                            40.7|                         1.2|\n",
      "|ASALTO|ARMA DE FUEGO|18:00:00 - 20:59:59|2011-07-30|EDIFICACION|      CAFÉ| INTERNET [EDIFIC...|Mayor de edad|      HOMBRE|COSTA RICA|PUNTARENAS|   puntarenas|            6801|                 53.3|         51.4|                 3.4|                            46.7|                         1.3|\n",
      "|ASALTO|ARMA DE FUEGO|18:00:00 - 20:59:59|2011-07-30|EDIFICACION|      CAFÉ| INTERNET [EDIFIC...|Mayor de edad|      HOMBRE|COSTA RICA|PUNTARENAS|   puntarenas|           84210|                 48.2|         46.4|                 3.7|                            51.8|                         1.8|\n",
      "|ASALTO|ARMA DE FUEGO|18:00:00 - 20:59:59|2011-07-30|EDIFICACION|      CAFÉ| INTERNET [EDIFIC...|Mayor de edad|      HOMBRE|COSTA RICA|PUNTARENAS|   puntarenas|          295918|                 48.9|         47.3|                 3.3|                            51.1|                         1.8|\n",
      "|ASALTO|ARMA DE FUEGO|15:00:00 - 17:59:59|2011-01-12|EDIFICACION|      CAFÉ| INTERNET [EDIFIC...|Mayor de edad|      HOMBRE|COSTA RICA|  SAN JOSE|   goicoechea|           90537|                 56.8|         54.7|                 3.7|                            43.2|                         1.2|\n",
      "|ASALTO|ARMA DE FUEGO|21:00:00 - 23:59:59|2011-11-02|EDIFICACION|      CAFÉ| INTERNET [EDIFIC...|Mayor de edad|      HOMBRE| NICARAGUA|   HEREDIA|      heredia|           16071|                 53.5|         51.9|                 3.0|                            46.5|                         1.2|\n",
      "|ASALTO|ARMA DE FUEGO|21:00:00 - 23:59:59|2011-11-02|EDIFICACION|      CAFÉ| INTERNET [EDIFIC...|Mayor de edad|      HOMBRE| NICARAGUA|   HEREDIA|      heredia|           96888|                 58.9|         57.0|                 3.2|                            41.1|                         1.2|\n",
      "|ASALTO|ARMA DE FUEGO|21:00:00 - 23:59:59|2011-11-02|EDIFICACION|      CAFÉ| INTERNET [EDIFIC...|Mayor de edad|      HOMBRE| NICARAGUA|   HEREDIA|      heredia|          334474|                 57.3|         55.6|                 2.9|                            42.7|                         1.3|\n",
      "|ASALTO|ARMA DE FUEGO|18:00:00 - 20:59:59|2011-10-10|EDIFICACION|      CAFÉ| INTERNET [EDIFIC...|Mayor de edad|       MUJER| NICARAGUA|PUNTARENAS|       quepos|           14677|                 56.4|         54.0|                 4.3|                            43.6|                         1.4|\n",
      "|ASALTO|ARMA DE FUEGO|15:00:00 - 17:59:59|2011-07-22|EDIFICACION|      CAFÉ| INTERNET [EDIFIC...|Mayor de edad|       MUJER|COSTA RICA|  SAN JOSE| desamparados|           19768|                 57.1|         55.0|                 3.7|                            42.9|                         1.3|\n",
      "|ASALTO|ARMA DE FUEGO|15:00:00 - 17:59:59|2011-07-22|EDIFICACION|      CAFÉ| INTERNET [EDIFIC...|Mayor de edad|       MUJER|COSTA RICA|  SAN JOSE| desamparados|           26951|                 59.3|         56.4|                 4.8|                            40.7|                         1.1|\n",
      "+------+-------------+-------------------+----------+-----------+----------+--------------------+-------------+------------+----------+----------+-------------+----------------+---------------------+-------------+--------------------+--------------------------------+----------------------------+\n",
      "only showing top 20 rows\n",
      "\n"
     ]
    }
   ],
   "source": [
    "datosIntegrados.show()"
   ]
  },
  {
   "cell_type": "code",
   "execution_count": 23,
   "metadata": {},
   "outputs": [
    {
     "name": "stdout",
     "output_type": "stream",
     "text": [
      "+------+-----------+-------------------+----------+--------+--------------------+-------------+------+------------+----------+-------------+--------+\n",
      "|Delito|  SubDelito|               Hora|     Fecha| Victima|          SubVictima|         Edad|Genero|Nacionalidad| Provincia|       Canton|Distrito|\n",
      "+------+-----------+-------------------+----------+--------+--------------------+-------------+------+------------+----------+-------------+--------+\n",
      "|ASALTO|ARMA BLANCA|18:00:00 - 20:59:59|2011-01-10| PERSONA|    PEATON [PERSONA]|Mayor de edad|HOMBRE|   NICARAGUA|  SAN JOSE|   ALAJUELITA|    null|\n",
      "|ASALTO|ARMA BLANCA|03:00:00 - 05:59:59|2011-02-02| PERSONA|    PEATON [PERSONA]|Mayor de edad|HOMBRE|  COSTA RICA|   CARTAGO|     OREAMUNO|    null|\n",
      "|ASALTO|ARMA BLANCA|21:00:00 - 23:59:59|2011-10-23| PERSONA|    PEATON [PERSONA]|Mayor de edad|HOMBRE|  COSTA RICA|   HEREDIA|      HEREDIA|    null|\n",
      "|ASALTO|ARMA BLANCA|18:00:00 - 20:59:59|2011-05-19| PERSONA|    PEATON [PERSONA]|Mayor de edad| MUJER|  COSTA RICA|   HEREDIA|      HEREDIA|    null|\n",
      "|ASALTO|ARMA BLANCA|03:00:00 - 05:59:59|2011-02-02| PERSONA|    PEATON [PERSONA]|Mayor de edad|HOMBRE|  COSTA RICA|GUANACASTE|      LIBERIA|    null|\n",
      "|ASALTO|ARMA BLANCA|00:00:00 - 02:59:59|2011-01-19| PERSONA|    PEATON [PERSONA]|Mayor de edad|HOMBRE|  COSTA RICA|  SAN JOSE|     SAN JOSE|    null|\n",
      "|ASALTO|ARMA BLANCA|06:00:00 - 08:59:59|2011-01-19| PERSONA|    PEATON [PERSONA]|Mayor de edad| MUJER|  COSTA RICA|  SAN JOSE|   GOICOECHEA|    null|\n",
      "|ASALTO|ARMA BLANCA|18:00:00 - 20:59:59|2011-01-07| PERSONA|    PEATON [PERSONA]|Mayor de edad| MUJER|  COSTA RICA|  SAN JOSE|MONTES DE OCA|    null|\n",
      "|ASALTO|ARMA BLANCA|09:00:00 - 11:59:59|2011-01-07|   OTROS| NO DEFINIDO [OTROS]|Menor de edad|HOMBRE| Desconocido|  SAN JOSE|     SAN JOSE|    null|\n",
      "|ASALTO|ARMA BLANCA|21:00:00 - 23:59:59|2011-01-12| PERSONA|    PEATON [PERSONA]|Mayor de edad|HOMBRE|  COSTA RICA|  SAN JOSE|   CURRIDABAT|    null|\n",
      "|ASALTO|ARMA BLANCA|00:00:00 - 02:59:59|2011-09-26| PERSONA|    PEATON [PERSONA]|Mayor de edad|HOMBRE|  COSTA RICA|  SAN JOSE|PEREZ ZELEDON|    null|\n",
      "|ASALTO|ARMA BLANCA|06:00:00 - 08:59:59|2011-01-10|VEHICULO|CARGA LIVIANA/REP...|Mayor de edad|HOMBRE|  COSTA RICA|     LIMON|        LIMON|    null|\n",
      "|ASALTO|ARMA BLANCA|03:00:00 - 05:59:59|2011-01-17| PERSONA|    PEATON [PERSONA]|Mayor de edad|HOMBRE|  COSTA RICA|     LIMON|        LIMON|    null|\n",
      "|ASALTO|ARMA BLANCA|18:00:00 - 20:59:59|2011-01-16| PERSONA|    PEATON [PERSONA]|Mayor de edad|HOMBRE|   NICARAGUA|  SAN JOSE|     SAN JOSE|    null|\n",
      "|ASALTO|ARMA BLANCA|03:00:00 - 05:59:59|2011-01-24| PERSONA|    PEATON [PERSONA]|Mayor de edad|HOMBRE|  COSTA RICA|  SAN JOSE| DESAMPARADOS|    null|\n",
      "|ASALTO|ARMA BLANCA|18:00:00 - 20:59:59|2011-01-20| PERSONA|    PEATON [PERSONA]|Mayor de edad|HOMBRE|   NICARAGUA|PUNTARENAS|   PUNTARENAS|    null|\n",
      "|ASALTO|ARMA BLANCA|09:00:00 - 11:59:59|2011-01-21| PERSONA|    PEATON [PERSONA]|Mayor de edad|HOMBRE|  COSTA RICA|PUNTARENAS|   PUNTARENAS|    null|\n",
      "|ASALTO|ARMA BLANCA|15:00:00 - 17:59:59|2011-02-08| PERSONA|    PEATON [PERSONA]|Menor de edad|HOMBRE|  COSTA RICA|     LIMON|       MATINA|    null|\n",
      "|ASALTO|ARMA BLANCA|09:00:00 - 11:59:59|2011-08-18| PERSONA|ESTUDIANTE [PERSONA]|Menor de edad|HOMBRE|  COSTA RICA|PUNTARENAS|   PUNTARENAS|    null|\n",
      "|ASALTO|ARMA BLANCA|00:00:00 - 02:59:59|2011-01-29| PERSONA|    PEATON [PERSONA]|Mayor de edad|HOMBRE|  COSTA RICA|GUANACASTE|      LIBERIA|    null|\n",
      "+------+-----------+-------------------+----------+--------+--------------------+-------------+------+------------+----------+-------------+--------+\n",
      "only showing top 20 rows\n",
      "\n"
     ]
    }
   ],
   "source": [
    "oij.show()"
   ]
  },
  {
   "cell_type": "code",
   "execution_count": 24,
   "metadata": {},
   "outputs": [
    {
     "name": "stdout",
     "output_type": "stream",
     "text": [
      "+-----------------------+----------------+---------------------+-------------+--------------------+--------------------------------+----------------------------+\n",
      "|ProvinciaCantonDistrito|PoblacionMayor15|TasaNetaParticipacion|TasaOcupacion|TasaDesempleoAbierto|PorcentajeEconomicamenteInactivo|RelacionDependenciaEconomica|\n",
      "+-----------------------+----------------+---------------------+-------------+--------------------+--------------------------------+----------------------------+\n",
      "|             costa rica|         3233882|                 53.5|         51.7|                 3.4|                            46.5|                         1.5|\n",
      "|               san jose|         1087315|                 56.0|         54.1|                 3.5|                            44.0|                         1.3|\n",
      "|               san jose|          225856|                 56.7|         54.5|                 3.9|                            43.3|                         1.2|\n",
      "|                 carmen|            2431|                 56.3|         54.8|                 2.7|                            43.7|                         1.0|\n",
      "|                 merced|            9655|                 59.2|         57.0|                 3.8|                            40.8|                         1.1|\n",
      "|               hospital|           15096|                 56.4|         53.9|                 4.4|                            43.6|                         1.3|\n",
      "|               catedral|           10742|                 59.0|         57.0|                 3.4|                            41.0|                         1.0|\n",
      "|                 zapote|           15545|                 55.7|         54.0|                 2.9|                            44.3|                         1.2|\n",
      "|   san francisco de ...|           16895|                 57.4|         56.1|                 2.3|                            42.6|                         1.1|\n",
      "|                  uruca|           22717|                 59.0|         56.6|                 4.0|                            41.0|                         1.4|\n",
      "|           mata redonda|            7077|                 54.0|         52.2|                 3.4|                            46.0|                         1.2|\n",
      "|                  pavas|           54510|                 56.3|         53.9|                 4.2|                            43.7|                         1.3|\n",
      "|                hatillo|           39555|                 54.7|         52.2|                 4.6|                            45.3|                         1.3|\n",
      "|          san sebastián|           31633|                 57.5|         55.1|                 4.1|                            42.5|                         1.2|\n",
      "|                 escazú|           44797|                 60.7|         58.9|                 3.0|                            39.3|                         1.1|\n",
      "|                 escazú|            9580|                 58.7|         56.7|                 3.4|                            41.3|                         1.1|\n",
      "|            san antonio|           17544|                 60.6|         58.7|                 3.0|                            39.4|                         1.1|\n",
      "|             san rafael|           17673|                 61.9|         60.2|                 2.9|                            38.1|                         1.0|\n",
      "|           desamparados|          159292|                 57.0|         54.7|                 4.0|                            43.0|                         1.3|\n",
      "|           desamparados|           26951|                 59.3|         56.4|                 4.8|                            40.7|                         1.1|\n",
      "+-----------------------+----------------+---------------------+-------------+--------------------+--------------------------------+----------------------------+\n",
      "only showing top 20 rows\n",
      "\n"
     ]
    }
   ],
   "source": [
    "inec.show()"
   ]
  },
  {
   "cell_type": "code",
   "execution_count": null,
   "metadata": {},
   "outputs": [],
   "source": []
  }
 ],
 "metadata": {
  "kernelspec": {
   "display_name": "Python 3",
   "language": "python",
   "name": "python3"
  },
  "language_info": {
   "codemirror_mode": {
    "name": "ipython",
    "version": 3
   },
   "file_extension": ".py",
   "mimetype": "text/x-python",
   "name": "python",
   "nbconvert_exporter": "python",
   "pygments_lexer": "ipython3",
   "version": "3.8.5"
  }
 },
 "nbformat": 4,
 "nbformat_minor": 4
}
