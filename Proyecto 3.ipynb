{
 "cells": [
  {
   "cell_type": "code",
   "execution_count": 36,
   "metadata": {},
   "outputs": [],
   "source": [
    "from pyspark.sql import SparkSession\n",
    "from pyspark.files import SparkFiles"
   ]
  },
  {
   "cell_type": "code",
   "execution_count": 37,
   "metadata": {},
   "outputs": [],
   "source": [
    "oij_csv=spark.read.format(\"csv\").option(\"header\",\"true\").option(\"inferSchema\",\"true\").load(\"Estadisticas.csv\")"
   ]
  },
  {
   "cell_type": "code",
   "execution_count": 38,
   "metadata": {},
   "outputs": [],
   "source": [
    "inec_csv=spark.read.format(\"csv\").option(\"header\",\"true\").option(\"inferSchema\",\"true\").load(\"reempleocenso2011-22.csv\")"
   ]
  },
  {
   "cell_type": "code",
   "execution_count": 39,
   "metadata": {},
   "outputs": [
    {
     "name": "stdout",
     "output_type": "stream",
     "text": [
      "root\n",
      " |-- Delito: string (nullable = true)\n",
      " |-- SubDelito: string (nullable = true)\n",
      " |-- Fecha: string (nullable = true)\n",
      " |-- Hora: string (nullable = true)\n",
      " |-- Victima: string (nullable = true)\n",
      " |-- SubVictima: string (nullable = true)\n",
      " |-- Edad: string (nullable = true)\n",
      " |-- Genero: string (nullable = true)\n",
      " |-- Nacionalidad: string (nullable = true)\n",
      " |-- Provincia: string (nullable = true)\n",
      " |-- Canton: string (nullable = true)\n",
      " |-- Distrito: string (nullable = true)\n",
      "\n"
     ]
    }
   ],
   "source": [
    "oij_csv.printSchema()"
   ]
  },
  {
   "cell_type": "code",
   "execution_count": 40,
   "metadata": {},
   "outputs": [
    {
     "name": "stdout",
     "output_type": "stream",
     "text": [
      "root\n",
      " |-- ProvinciaCantonDistrito: string (nullable = true)\n",
      " |-- PoblacionMayor15: integer (nullable = true)\n",
      " |-- TasaNetaParticipacion: double (nullable = true)\n",
      " |-- TasaOcupacion: double (nullable = true)\n",
      " |-- TasaDesempleoAbierto: string (nullable = true)\n",
      " |-- PorcentajeEconomicamenteInactivo: double (nullable = true)\n",
      " |-- RelacionDependenciaEconomica: double (nullable = true)\n",
      "\n"
     ]
    }
   ],
   "source": [
    "\n",
    "inec_csv.printSchema()"
   ]
  },
  {
   "cell_type": "code",
   "execution_count": 41,
   "metadata": {},
   "outputs": [],
   "source": [
    "sqlContext.registerDataFrameAsTable(oij_csv, \"oij\")"
   ]
  },
  {
   "cell_type": "code",
   "execution_count": 42,
   "metadata": {},
   "outputs": [],
   "source": [
    "sqlContext.registerDataFrameAsTable(inec_csv, \"inec\")"
   ]
  },
  {
   "cell_type": "code",
   "execution_count": 43,
   "metadata": {},
   "outputs": [],
   "source": [
    "def quitaEspacios(ind):\n",
    "    if ind == 1:\n",
    "        return sqlContext.sql(\"SELECT Delito, SubDelito,Hora, Fecha, Victima, SubVictima, Edad, Genero, Nacionalidad, Provincia,Canton, TRIM(Distrito) as Distrito from oij\")\n",
    "    else:\n",
    "        return sqlContext.sql(\"SELECT TRIM(ProvinciaCantonDistrito) AS ProvinciaCantonDistrito, PoblacionMayor15, TasaNetaParticipacion, TasaOcupacion, TasaDesempleoAbierto, PorcentajeEconomicamenteInactivo, RelacionDependenciaEconomica from inec\")"
   ]
  },
  {
   "cell_type": "code",
   "execution_count": 44,
   "metadata": {},
   "outputs": [],
   "source": [
    "oij = quitaEspacios(1)\n",
    "sqlContext.registerDataFrameAsTable(oij, \"oij\")"
   ]
  },
  {
   "cell_type": "code",
   "execution_count": 45,
   "metadata": {},
   "outputs": [],
   "source": [
    "inec = quitaEspacios(2)\n",
    "sqlContext.registerDataFrameAsTable(inec, \"inec\")"
   ]
  },
  {
   "cell_type": "code",
   "execution_count": 46,
   "metadata": {},
   "outputs": [],
   "source": [
    "def minusculas(ind):\n",
    "    if ind == 1:\n",
    "        return sqlContext.sql(\"SELECT Delito, SubDelito,Hora, Fecha, Victima, SubVictima, Edad, Genero, Nacionalidad, Provincia,Canton, LOWER(Distrito) as Distrito from oij\")\n",
    "    else:\n",
    "        return sqlContext.sql(\"SELECT LOWER(ProvinciaCantonDistrito) AS ProvinciaCantonDistrito, PoblacionMayor15, TasaNetaParticipacion, TasaOcupacion, TasaDesempleoAbierto, PorcentajeEconomicamenteInactivo, RelacionDependenciaEconomica from inec\")"
   ]
  },
  {
   "cell_type": "code",
   "execution_count": 47,
   "metadata": {},
   "outputs": [],
   "source": [
    "oij = minusculas(1)\n",
    "sqlContext.registerDataFrameAsTable(oij, \"oij\")"
   ]
  },
  {
   "cell_type": "code",
   "execution_count": 48,
   "metadata": {},
   "outputs": [],
   "source": [
    "inec = minusculas(2)\n",
    "sqlContext.registerDataFrameAsTable(inec, \"inec\")"
   ]
  },
  {
   "cell_type": "code",
   "execution_count": 72,
   "metadata": {},
   "outputs": [],
   "source": [
    "def sacaNoExistentes():\n",
    "    return sqlContext.sql(\"SELECT DISTINCT(Distrito) FROM oij WHERE NOT EXISTS(SELECT 1 FROM inec WHERE inec.ProvinciaCantonDistrito = oij.Distrito)\") "
   ]
  },
  {
   "cell_type": "code",
   "execution_count": 77,
   "metadata": {},
   "outputs": [],
   "source": [
    "noCoinciden = sacaNoExistentes()\n",
    "sqlContext.registerDataFrameAsTable(noCoinciden, \"noCoincidencias\")"
   ]
  },
  {
   "cell_type": "code",
   "execution_count": 78,
   "metadata": {},
   "outputs": [
    {
     "name": "stdout",
     "output_type": "stream",
     "text": [
      "+-------------------+\n",
      "|           Distrito|\n",
      "+-------------------+\n",
      "|             pococi|\n",
      "|            guacimo|\n",
      "|           la union|\n",
      "|              belen|\n",
      "|             sarchí|\n",
      "|               null|\n",
      "|        leon cortes|\n",
      "|            tarrazu|\n",
      "|           san jose|\n",
      "|          san ramon|\n",
      "|             aserri|\n",
      "|vasquez de coronado|\n",
      "|            paraiso|\n",
      "|            tilaran|\n",
      "|              canas|\n",
      "|              limon|\n",
      "|      perez zeledon|\n",
      "|              tibas|\n",
      "|          sarapiqui|\n",
      "|             escazu|\n",
      "+-------------------+\n",
      "only showing top 20 rows\n",
      "\n"
     ]
    }
   ],
   "source": [
    "noCoinciden.show()"
   ]
  },
  {
   "cell_type": "code",
   "execution_count": 82,
   "metadata": {},
   "outputs": [],
   "source": [
    "def cuentaNoExistentes():\n",
    "    return sqlContext.sql(\"SELECT COUNT(*) as num FROM noCoincidencias\") "
   ]
  },
  {
   "cell_type": "code",
   "execution_count": 83,
   "metadata": {},
   "outputs": [],
   "source": [
    "numNoCoinciden = cuentaNoExistentes()"
   ]
  },
  {
   "cell_type": "code",
   "execution_count": 84,
   "metadata": {},
   "outputs": [
    {
     "name": "stdout",
     "output_type": "stream",
     "text": [
      "+---+\n",
      "|num|\n",
      "+---+\n",
      "| 21|\n",
      "+---+\n",
      "\n"
     ]
    }
   ],
   "source": [
    "numNoCoinciden.show()"
   ]
  },
  {
   "cell_type": "code",
   "execution_count": 59,
   "metadata": {},
   "outputs": [
    {
     "name": "stdout",
     "output_type": "stream",
     "text": [
      "+------+-----------+-------------------+----------+--------+--------------------+-------------+------+------------+----------+-------------+--------+\n",
      "|Delito|  SubDelito|               Hora|     Fecha| Victima|          SubVictima|         Edad|Genero|Nacionalidad| Provincia|       Canton|Distrito|\n",
      "+------+-----------+-------------------+----------+--------+--------------------+-------------+------+------------+----------+-------------+--------+\n",
      "|ASALTO|ARMA BLANCA|18:00:00 - 20:59:59|2011-01-10| PERSONA|    PEATON [PERSONA]|Mayor de edad|HOMBRE|   NICARAGUA|  SAN JOSE|   ALAJUELITA|    null|\n",
      "|ASALTO|ARMA BLANCA|03:00:00 - 05:59:59|2011-02-02| PERSONA|    PEATON [PERSONA]|Mayor de edad|HOMBRE|  COSTA RICA|   CARTAGO|     OREAMUNO|    null|\n",
      "|ASALTO|ARMA BLANCA|21:00:00 - 23:59:59|2011-10-23| PERSONA|    PEATON [PERSONA]|Mayor de edad|HOMBRE|  COSTA RICA|   HEREDIA|      HEREDIA|    null|\n",
      "|ASALTO|ARMA BLANCA|18:00:00 - 20:59:59|2011-05-19| PERSONA|    PEATON [PERSONA]|Mayor de edad| MUJER|  COSTA RICA|   HEREDIA|      HEREDIA|    null|\n",
      "|ASALTO|ARMA BLANCA|03:00:00 - 05:59:59|2011-02-02| PERSONA|    PEATON [PERSONA]|Mayor de edad|HOMBRE|  COSTA RICA|GUANACASTE|      LIBERIA|    null|\n",
      "|ASALTO|ARMA BLANCA|00:00:00 - 02:59:59|2011-01-19| PERSONA|    PEATON [PERSONA]|Mayor de edad|HOMBRE|  COSTA RICA|  SAN JOSE|     SAN JOSE|    null|\n",
      "|ASALTO|ARMA BLANCA|06:00:00 - 08:59:59|2011-01-19| PERSONA|    PEATON [PERSONA]|Mayor de edad| MUJER|  COSTA RICA|  SAN JOSE|   GOICOECHEA|    null|\n",
      "|ASALTO|ARMA BLANCA|18:00:00 - 20:59:59|2011-01-07| PERSONA|    PEATON [PERSONA]|Mayor de edad| MUJER|  COSTA RICA|  SAN JOSE|MONTES DE OCA|    null|\n",
      "|ASALTO|ARMA BLANCA|09:00:00 - 11:59:59|2011-01-07|   OTROS| NO DEFINIDO [OTROS]|Menor de edad|HOMBRE| Desconocido|  SAN JOSE|     SAN JOSE|    null|\n",
      "|ASALTO|ARMA BLANCA|21:00:00 - 23:59:59|2011-01-12| PERSONA|    PEATON [PERSONA]|Mayor de edad|HOMBRE|  COSTA RICA|  SAN JOSE|   CURRIDABAT|    null|\n",
      "|ASALTO|ARMA BLANCA|00:00:00 - 02:59:59|2011-09-26| PERSONA|    PEATON [PERSONA]|Mayor de edad|HOMBRE|  COSTA RICA|  SAN JOSE|PEREZ ZELEDON|    null|\n",
      "|ASALTO|ARMA BLANCA|06:00:00 - 08:59:59|2011-01-10|VEHICULO|CARGA LIVIANA/REP...|Mayor de edad|HOMBRE|  COSTA RICA|     LIMON|        LIMON|    null|\n",
      "|ASALTO|ARMA BLANCA|03:00:00 - 05:59:59|2011-01-17| PERSONA|    PEATON [PERSONA]|Mayor de edad|HOMBRE|  COSTA RICA|     LIMON|        LIMON|    null|\n",
      "|ASALTO|ARMA BLANCA|18:00:00 - 20:59:59|2011-01-16| PERSONA|    PEATON [PERSONA]|Mayor de edad|HOMBRE|   NICARAGUA|  SAN JOSE|     SAN JOSE|    null|\n",
      "|ASALTO|ARMA BLANCA|03:00:00 - 05:59:59|2011-01-24| PERSONA|    PEATON [PERSONA]|Mayor de edad|HOMBRE|  COSTA RICA|  SAN JOSE| DESAMPARADOS|    null|\n",
      "|ASALTO|ARMA BLANCA|18:00:00 - 20:59:59|2011-01-20| PERSONA|    PEATON [PERSONA]|Mayor de edad|HOMBRE|   NICARAGUA|PUNTARENAS|   PUNTARENAS|    null|\n",
      "|ASALTO|ARMA BLANCA|09:00:00 - 11:59:59|2011-01-21| PERSONA|    PEATON [PERSONA]|Mayor de edad|HOMBRE|  COSTA RICA|PUNTARENAS|   PUNTARENAS|    null|\n",
      "|ASALTO|ARMA BLANCA|15:00:00 - 17:59:59|2011-02-08| PERSONA|    PEATON [PERSONA]|Menor de edad|HOMBRE|  COSTA RICA|     LIMON|       MATINA|    null|\n",
      "|ASALTO|ARMA BLANCA|09:00:00 - 11:59:59|2011-08-18| PERSONA|ESTUDIANTE [PERSONA]|Menor de edad|HOMBRE|  COSTA RICA|PUNTARENAS|   PUNTARENAS|    null|\n",
      "|ASALTO|ARMA BLANCA|00:00:00 - 02:59:59|2011-01-29| PERSONA|    PEATON [PERSONA]|Mayor de edad|HOMBRE|  COSTA RICA|GUANACASTE|      LIBERIA|    null|\n",
      "+------+-----------+-------------------+----------+--------+--------------------+-------------+------+------------+----------+-------------+--------+\n",
      "only showing top 20 rows\n",
      "\n"
     ]
    }
   ],
   "source": [
    "oij.show()"
   ]
  },
  {
   "cell_type": "code",
   "execution_count": 60,
   "metadata": {},
   "outputs": [
    {
     "name": "stdout",
     "output_type": "stream",
     "text": [
      "+-----------------------+----------------+---------------------+-------------+--------------------+--------------------------------+----------------------------+\n",
      "|ProvinciaCantonDistrito|PoblacionMayor15|TasaNetaParticipacion|TasaOcupacion|TasaDesempleoAbierto|PorcentajeEconomicamenteInactivo|RelacionDependenciaEconomica|\n",
      "+-----------------------+----------------+---------------------+-------------+--------------------+--------------------------------+----------------------------+\n",
      "|             costa rica|         3233882|                 53.5|         51.7|                 3.4|                            46.5|                         1.5|\n",
      "|               san josé|         1087315|                 56.0|         54.1|                 3.5|                            44.0|                         1.3|\n",
      "|               san josé|          225856|                 56.7|         54.5|                 3.9|                            43.3|                         1.2|\n",
      "|                 carmen|            2431|                 56.3|         54.8|                 2.7|                            43.7|                         1.0|\n",
      "|                 merced|            9655|                 59.2|         57.0|                 3.8|                            40.8|                         1.1|\n",
      "|               hospital|           15096|                 56.4|         53.9|                 4.4|                            43.6|                         1.3|\n",
      "|               catedral|           10742|                 59.0|         57.0|                 3.4|                            41.0|                         1.0|\n",
      "|                 zapote|           15545|                 55.7|         54.0|                 2.9|                            44.3|                         1.2|\n",
      "|   san francisco de ...|           16895|                 57.4|         56.1|                 2.3|                            42.6|                         1.1|\n",
      "|                  uruca|           22717|                 59.0|         56.6|                 4.0|                            41.0|                         1.4|\n",
      "|           mata redonda|            7077|                 54.0|         52.2|                 3.4|                            46.0|                         1.2|\n",
      "|                  pavas|           54510|                 56.3|         53.9|                 4.2|                            43.7|                         1.3|\n",
      "|                hatillo|           39555|                 54.7|         52.2|                 4.6|                            45.3|                         1.3|\n",
      "|          san sebastián|           31633|                 57.5|         55.1|                 4.1|                            42.5|                         1.2|\n",
      "|                 escazú|           44797|                 60.7|         58.9|                 3.0|                            39.3|                         1.1|\n",
      "|                 escazú|            9580|                 58.7|         56.7|                 3.4|                            41.3|                         1.1|\n",
      "|            san antonio|           17544|                 60.6|         58.7|                 3.0|                            39.4|                         1.1|\n",
      "|             san rafael|           17673|                 61.9|         60.2|                 2.9|                            38.1|                         1.0|\n",
      "|           desamparados|          159292|                 57.0|         54.7|                 4.0|                            43.0|                         1.3|\n",
      "|           desamparados|           26951|                 59.3|         56.4|                 4.8|                            40.7|                         1.1|\n",
      "+-----------------------+----------------+---------------------+-------------+--------------------+--------------------------------+----------------------------+\n",
      "only showing top 20 rows\n",
      "\n"
     ]
    }
   ],
   "source": [
    "inec.show()"
   ]
  },
  {
   "cell_type": "code",
   "execution_count": null,
   "metadata": {},
   "outputs": [],
   "source": []
  }
 ],
 "metadata": {
  "kernelspec": {
   "display_name": "Python 3",
   "language": "python",
   "name": "python3"
  },
  "language_info": {
   "codemirror_mode": {
    "name": "ipython",
    "version": 3
   },
   "file_extension": ".py",
   "mimetype": "text/x-python",
   "name": "python",
   "nbconvert_exporter": "python",
   "pygments_lexer": "ipython3",
   "version": "3.8.5"
  }
 },
 "nbformat": 4,
 "nbformat_minor": 4
}
