{
 "cells": [
  {
   "cell_type": "markdown",
   "metadata": {},
   "source": [
    "# Descripción del sistema\n",
    "El sistema consiste en el desarrollo de 5 gráficos diferentes, estos gráficos son realizados con dos conjuntos de datos de dos entidades costarricenses diferentes que son el INEC y el OIJ, ambos conjuntos de datos fueron descargados en formato csv y son almacenados como dataframes utilizando la función de spark en python, además de estos los datos son limpiados ya que tienen incongruencias en su formato, una vez con los datos limpios se envían los mismo a postgres y se grafican"
   ]
  },
  {
   "cell_type": "code",
   "execution_count": 1,
   "metadata": {},
   "outputs": [],
   "source": [
    "#Bibliotecas necesarias para el uso de spark\n",
    "from pyspark.sql import SparkSession\n",
    "from pyspark.files import SparkFiles\n",
    "from pyspark.sql import functions as F\n",
    "from pyspark.sql.functions import col, unix_timestamp, to_date , regexp_replace"
   ]
  },
  {
   "cell_type": "code",
   "execution_count": 2,
   "metadata": {},
   "outputs": [],
   "source": [
    "#Se guardan ambos archivos como dataframes\n",
    "oij_csv=spark.read.format(\"csv\").option(\"header\",\"true\").option(\"inferSchema\",\"true\").load(\"Estadisticas.csv\")\n",
    "inec_csv=spark.read.format(\"csv\").option(\"header\",\"true\").option(\"inferSchema\",\"true\").load(\"reempleocenso2011-22.csv\")"
   ]
  },
  {
   "cell_type": "code",
   "execution_count": 3,
   "metadata": {},
   "outputs": [
    {
     "name": "stdout",
     "output_type": "stream",
     "text": [
      "root\n",
      " |-- Delito: string (nullable = true)\n",
      " |-- SubDelito: string (nullable = true)\n",
      " |-- Fecha: string (nullable = true)\n",
      " |-- Hora: string (nullable = true)\n",
      " |-- Victima: string (nullable = true)\n",
      " |-- SubVictima: string (nullable = true)\n",
      " |-- Edad: string (nullable = true)\n",
      " |-- Genero: string (nullable = true)\n",
      " |-- Nacionalidad: string (nullable = true)\n",
      " |-- Provincia: string (nullable = true)\n",
      " |-- Canton: string (nullable = true)\n",
      " |-- Distrito: string (nullable = true)\n",
      "\n",
      "+------+-----------+----------+-------------------+-----------+--------------------+-------------+------+------------+----------+------------+-------------+\n",
      "|Delito|  SubDelito|     Fecha|               Hora|    Victima|          SubVictima|         Edad|Genero|Nacionalidad| Provincia|      Canton|     Distrito|\n",
      "+------+-----------+----------+-------------------+-----------+--------------------+-------------+------+------------+----------+------------+-------------+\n",
      "|ASALTO|ARMA BLANCA|2011-01-10|15:00:00 - 17:59:59|    PERSONA|MENOR DE EDAD [PE...|Menor de edad|HOMBRE|  COSTA RICA|PUNTARENAS|BUENOS AIRES| BUENOS AIRES|\n",
      "|ASALTO|ARMA BLANCA|2011-02-02|18:00:00 - 20:59:59|    PERSONA|CLIENTE LOCAL COM...|Mayor de edad|HOMBRE|  COSTA RICA|   HEREDIA|     HEREDIA|SAN FRANCISCO|\n",
      "|ASALTO|ARMA BLANCA|2011-10-23|18:00:00 - 20:59:59|EDIFICACION|TIENDA/BOUTIQUE [...|Mayor de edad| MUJER|  COSTA RICA|  ALAJUELA|  SAN CARLOS|      POCOSOL|\n",
      "|ASALTO|ARMA BLANCA|2011-05-19|21:00:00 - 23:59:59|    PERSONA|    PEATON [PERSONA]|Menor de edad| MUJER|  COSTA RICA|PUNTARENAS|  PUNTARENAS|   PUNTARENAS|\n",
      "|ASALTO|ARMA BLANCA|2011-02-02|09:00:00 - 11:59:59|    PERSONA|    PEATON [PERSONA]|Mayor de edad|HOMBRE|  COSTA RICA|  ALAJUELA|   SAN RAMON|    SAN RAMON|\n",
      "|ASALTO|ARMA BLANCA|2011-01-19|21:00:00 - 23:59:59|    PERSONA|   TAXISTA [PERSONA]|Mayor de edad|HOMBRE|  COSTA RICA|PUNTARENAS|  CORREDORES|       CANOAS|\n",
      "|ASALTO|ARMA BLANCA|2011-01-19|15:00:00 - 17:59:59|    PERSONA|MENOR DE EDAD [PE...|Menor de edad|HOMBRE|  COSTA RICA|  SAN JOSE|    SAN JOSE|     HOSPITAL|\n",
      "|ASALTO|ARMA BLANCA|2011-01-07|18:00:00 - 20:59:59|    PERSONA|    PEATON [PERSONA]|Mayor de edad|HOMBRE|   NICARAGUA|  SAN JOSE|    SAN JOSE|       MERCED|\n",
      "|ASALTO|ARMA BLANCA|2011-01-07|21:00:00 - 23:59:59|    PERSONA|    PEATON [PERSONA]|Mayor de edad|HOMBRE|  COSTA RICA|  SAN JOSE|    SAN JOSE|       CARMEN|\n",
      "|ASALTO|ARMA BLANCA|2011-01-12|09:00:00 - 11:59:59|    PERSONA|    PEATON [PERSONA]|Mayor de edad|HOMBRE|   NICARAGUA|     LIMON|       LIMON|        LIMON|\n",
      "|ASALTO|ARMA BLANCA|2011-09-26|18:00:00 - 20:59:59|    PERSONA|    PEATON [PERSONA]|Mayor de edad|HOMBRE|   NICARAGUA|  SAN JOSE|    SAN JOSE|     HOSPITAL|\n",
      "|ASALTO|ARMA BLANCA|2011-01-10|21:00:00 - 23:59:59|    PERSONA|    PEATON [PERSONA]|Mayor de edad| MUJER|  COSTA RICA|  ALAJUELA|  SAN CARLOS|      QUESADA|\n",
      "|ASALTO|ARMA BLANCA|2011-01-17|00:00:00 - 02:59:59|    PERSONA|    PEATON [PERSONA]|Mayor de edad| MUJER|  COSTA RICA|   CARTAGO|     CARTAGO|  SAN NICOLAS|\n",
      "|ASALTO|ARMA BLANCA|2011-01-16|09:00:00 - 11:59:59|    PERSONA|    PEATON [PERSONA]|Mayor de edad| MUJER|  COSTA RICA|   CARTAGO|     CARTAGO| DULCE NOMBRE|\n",
      "|ASALTO|ARMA BLANCA|2011-01-24|15:00:00 - 17:59:59|    PERSONA|    PEATON [PERSONA]|Mayor de edad|HOMBRE|   NICARAGUA|  SAN JOSE|      ESCAZU|       ESCAZU|\n",
      "|ASALTO|ARMA BLANCA|2011-01-20|21:00:00 - 23:59:59|    PERSONA|    PEATON [PERSONA]|Mayor de edad|HOMBRE|  COSTA RICA|  SAN JOSE|    SAN JOSE|     HOSPITAL|\n",
      "|ASALTO|ARMA BLANCA|2011-01-21|06:00:00 - 08:59:59|    PERSONA|    PEATON [PERSONA]|Mayor de edad|HOMBRE|   NICARAGUA|  SAN JOSE|    SAN JOSE|     HOSPITAL|\n",
      "|ASALTO|ARMA BLANCA|2011-02-08|15:00:00 - 17:59:59|    PERSONA|    PEATON [PERSONA]|Mayor de edad|HOMBRE|  COSTA RICA|     LIMON|   SIQUIRRES|    SIQUIRRES|\n",
      "|ASALTO|ARMA BLANCA|2011-08-18|12:00:00 - 14:59:59|    PERSONA|    PEATON [PERSONA]|Mayor de edad|HOMBRE|  COSTA RICA|     LIMON|   SIQUIRRES|    SIQUIRRES|\n",
      "|ASALTO|ARMA BLANCA|2011-01-29|06:00:00 - 08:59:59|    PERSONA|    PEATON [PERSONA]|Mayor de edad| MUJER|  COSTA RICA|  SAN JOSE|      ASERRI|       ASERRI|\n",
      "+------+-----------+----------+-------------------+-----------+--------------------+-------------+------+------------+----------+------------+-------------+\n",
      "only showing top 20 rows\n",
      "\n"
     ]
    }
   ],
   "source": [
    "#Se imprimen ambos esquemas para observar el formato en el que vienen los datos, esto servirá para ajustar\n",
    "#el dataframe a lo que necesitemos\n",
    "#este de abajo será el formato del OIJ\n",
    "oij_csv.printSchema()\n",
    "oij_csv.show()"
   ]
  },
  {
   "cell_type": "code",
   "execution_count": 4,
   "metadata": {},
   "outputs": [
    {
     "name": "stdout",
     "output_type": "stream",
     "text": [
      "root\n",
      " |-- ProvinciaCantonDistrito: string (nullable = true)\n",
      " |-- PoblacionMayor15: integer (nullable = true)\n",
      " |-- TasaNetaParticipacion: double (nullable = true)\n",
      " |-- TasaOcupacion: double (nullable = true)\n",
      " |-- TasaDesempleoAbierto: double (nullable = true)\n",
      " |-- PorcentajeEconomicamenteInactivo: double (nullable = true)\n",
      " |-- RelacionDependenciaEconomica: double (nullable = true)\n",
      "\n"
     ]
    }
   ],
   "source": [
    "#Este otro formato correspone al INEC\n",
    "inec_csv=inec_csv.withColumn('PoblacionMayor15', regexp_replace(col('PoblacionMayor15'), \" \", \"\"))\n",
    "inec_csv=inec_csv.withColumn('PoblacionMayor15',inec_csv['PoblacionMayor15'].cast(\"Integer\").alias('PoblacionMayor15'))\n",
    "inec_csv=inec_csv.withColumn('TasaDesempleoAbierto',inec_csv['TasaDesempleoAbierto'].cast(\"double\").alias('TasaDesempleoAbierto'))\n",
    "inec_csv.printSchema()"
   ]
  },
  {
   "cell_type": "code",
   "execution_count": 5,
   "metadata": {},
   "outputs": [],
   "source": [
    "#Se registran ambos dataframe como tablas de SQL, esto nos permite realizar consultas sql por medio de sqlContext\n",
    "\n",
    "sqlContext.registerDataFrameAsTable(oij_csv, \"oij\")\n",
    "sqlContext.registerDataFrameAsTable(inec_csv, \"inec_csv\")\n",
    "inec_csv1= sqlContext.sql(\"SELECT ProvinciaCantonDistrito, SUM(PoblacionMayor15) PoblacionMayor15, AVG(TasaNetaParticipacion)TasaNetaParticipacion,AVG(TasaOcupacion)TasaOcupacion,AVG(TasaDesempleoAbierto)TasaDesempleoAbierto,AVG(PorcentajeEconomicamenteInactivo)PorcentajeEconomicamenteInactivo, AVG(RelacionDependenciaEconomica)RelacionDependenciaEconomica FROM inec_csv GROUP BY ProvinciaCantonDistrito \")\n",
    "sqlContext.registerDataFrameAsTable(inec_csv1, \"inec\")"
   ]
  },
  {
   "cell_type": "code",
   "execution_count": 6,
   "metadata": {},
   "outputs": [],
   "source": [
    "'''\n",
    "Entradas: Un entero\n",
    "Salidas: Un dataframe\n",
    "Descripción general: Se encarga de validar cual conjunto de datos se debe enviar \n",
    "y realiza la consulta SQL correspondiente la cual removerá espacios en blanco\n",
    "'''\n",
    "def quitaEspacios(ind):\n",
    "    #Este if es de validación para enviar datos de INEC o del OIJ\n",
    "    #por medio de sqlContext se utiliza la función TRIM que acorta todos los espacios en blanco\n",
    "    #almacenados antes o después de nuestros datos\n",
    "    if ind == 1:\n",
    "        return sqlContext.sql(\"SELECT Delito, SubDelito,Hora, Fecha, Victima, SubVictima, Edad, Genero, Nacionalidad, Provincia,Canton, TRIM(Distrito) as Distrito from oij\")\n",
    "    else:\n",
    "        return sqlContext.sql(\"SELECT TRIM(ProvinciaCantonDistrito) AS ProvinciaCantonDistrito, PoblacionMayor15, TasaNetaParticipacion, TasaOcupacion, TasaDesempleoAbierto, PorcentajeEconomicamenteInactivo, RelacionDependenciaEconomica from inec\")"
   ]
  },
  {
   "cell_type": "code",
   "execution_count": 7,
   "metadata": {},
   "outputs": [],
   "source": [
    "#Simplemente se llama a la función con el número entero correspondiente y se registra el nuevo dataframe\n",
    "#como la tabla almacenada anteriormente en el sistema, esto se aplica para ambos conjuntos de datos\n",
    "oij = quitaEspacios(1)\n",
    "sqlContext.registerDataFrameAsTable(oij, \"oij\")\n",
    "inec = quitaEspacios(2)\n",
    "sqlContext.registerDataFrameAsTable(inec, \"inec\")"
   ]
  },
  {
   "cell_type": "code",
   "execution_count": 8,
   "metadata": {},
   "outputs": [],
   "source": [
    "'''\n",
    "Entradas: Un entero\n",
    "Salidas: Un dataframe\n",
    "Descripción general: Se encarga de validar cual conjunto de datos se debe enviar \n",
    "y realiza la consulta SQL correspondiente la cual pasará los datos a minúscula\n",
    "'''\n",
    "def minusculas(ind):\n",
    "    #Este if es de validación para enviar datos de INEC o del OIJ\n",
    "    #por medio de sqlContext se utiliza la función LOWER que se encarga de pasar los datos a minúscula\n",
    "    if ind == 1:\n",
    "        return sqlContext.sql(\"SELECT Delito, SubDelito,Hora, Fecha, Victima, SubVictima, Edad, Genero, Nacionalidad, Provincia,Canton, LOWER(Distrito) as Distrito from oij\")\n",
    "    else:\n",
    "        return sqlContext.sql(\"SELECT LOWER(ProvinciaCantonDistrito) AS ProvinciaCantonDistrito, PoblacionMayor15, TasaNetaParticipacion, TasaOcupacion, TasaDesempleoAbierto, PorcentajeEconomicamenteInactivo, RelacionDependenciaEconomica from inec\")"
   ]
  },
  {
   "cell_type": "code",
   "execution_count": 9,
   "metadata": {},
   "outputs": [],
   "source": [
    "#Se llama a la función con el número entero correspondiente y se registra el nuevo dataframe\n",
    "#como la tabla almacenada anteriormente en el sistema, se aplica a ambos conjuntos de datos\n",
    "oij = minusculas(1)\n",
    "sqlContext.registerDataFrameAsTable(oij, \"oij\")\n",
    "inec = minusculas(2)\n",
    "sqlContext.registerDataFrameAsTable(inec, \"inec\")"
   ]
  },
  {
   "cell_type": "code",
   "execution_count": 10,
   "metadata": {},
   "outputs": [],
   "source": [
    "'''\n",
    "Entradas: No posee\n",
    "Salidas: Un dataframe\n",
    "Descripción general: Se encarga de hacer la consulta sql para mostrar los datos del OIJ\n",
    "que no coinciden con ningún dato del INEC\n",
    "'''\n",
    "def sacaNoExistentes():\n",
    "    #Esta consulta se encarga de sacar los distintos por medio del uso de DISTINCT que no se encuentren\n",
    "    #en la consulta realizada a los datos del INEC\n",
    "    return sqlContext.sql(\"SELECT DISTINCT(Distrito) FROM oij WHERE NOT EXISTS(SELECT 1 FROM inec WHERE inec.ProvinciaCantonDistrito = oij.Distrito)\") "
   ]
  },
  {
   "cell_type": "code",
   "execution_count": 11,
   "metadata": {},
   "outputs": [],
   "source": [
    "#Llama a la función y lo almacena como un dataframe nuevo y una tabla nueva\n",
    "noCoinciden = sacaNoExistentes()\n",
    "sqlContext.registerDataFrameAsTable(noCoinciden, \"noCoincidencias\")"
   ]
  },
  {
   "cell_type": "code",
   "execution_count": 12,
   "metadata": {},
   "outputs": [
    {
     "name": "stdout",
     "output_type": "stream",
     "text": [
      "+-----------------+\n",
      "|         Distrito|\n",
      "+-----------------+\n",
      "|       rio cuarto|\n",
      "|     san jeronimo|\n",
      "|           libano|\n",
      "|             para|\n",
      "|            colon|\n",
      "|         guapiles|\n",
      "|          guacimo|\n",
      "|           puraba|\n",
      "|            cajon|\n",
      "|            belen|\n",
      "|belen de nosarita|\n",
      "|           granja|\n",
      "|      santa lucia|\n",
      "|      desconocido|\n",
      "|      santo tomas|\n",
      "|           jardin|\n",
      "|       agua buena|\n",
      "|         tarcoles|\n",
      "|          alegria|\n",
      "|      santa maria|\n",
      "+-----------------+\n",
      "only showing top 20 rows\n",
      "\n"
     ]
    }
   ],
   "source": [
    "#Se muestran los datos que no coincidieron, principalmente fue porque el OIJ utiliza abreviaciones y no usa tildes,\n",
    "#el INEC no\n",
    "noCoinciden.show()"
   ]
  },
  {
   "cell_type": "code",
   "execution_count": 13,
   "metadata": {},
   "outputs": [],
   "source": [
    "'''\n",
    "Entradas: No posee\n",
    "Salidas: Un dataframe\n",
    "Descripción general: Se encarga de contar los elementos de la tabla de noCoincidencias\n",
    "estos elementos corresponen a todos aquellos distritos del OIJ que no corresponden a distritos del INEC\n",
    "'''\n",
    "def cuentaNoExistentes():\n",
    "    return sqlContext.sql(\"SELECT COUNT(*) as num FROM noCoincidencias\") "
   ]
  },
  {
   "cell_type": "code",
   "execution_count": 14,
   "metadata": {},
   "outputs": [],
   "source": [
    "#Almacena el dataframe con el dato\n",
    "numNoCoinciden = cuentaNoExistentes()"
   ]
  },
  {
   "cell_type": "code",
   "execution_count": 15,
   "metadata": {},
   "outputs": [
    {
     "name": "stdout",
     "output_type": "stream",
     "text": [
      "+---+\n",
      "|num|\n",
      "+---+\n",
      "|102|\n",
      "+---+\n",
      "\n",
      "Cantidad de registros que no coincidieron:  102\n"
     ]
    }
   ],
   "source": [
    "#Se despliega el número correspondiente\n",
    "numNoCoinciden.show()\n",
    "print(\"Cantidad de registros que no coincidieron: \", noCoinciden.count())"
   ]
  },
  {
   "cell_type": "code",
   "execution_count": 35,
   "metadata": {},
   "outputs": [],
   "source": [
    "#Se modifican datos del dataframe del INEC para que correspondan a algunos datos del OIJ\n",
    "#esto se encarga de buscar por columna los datos que tengan almaceanado los nombres de la manera indicada\n",
    "#luego se modifican por sus correpondientes en el dataframe del OIJ\n",
    "inec = inec.withColumn(\"ProvinciaCantonDistrito\", F.when(F.col(\"ProvinciaCantonDistrito\")=='pococí','pococi').otherwise(F.col(\"ProvinciaCantonDistrito\")))\n",
    "inec = inec.withColumn(\"ProvinciaCantonDistrito\", F.when(F.col(\"ProvinciaCantonDistrito\")=='la unión','la union').otherwise(F.col(\"ProvinciaCantonDistrito\")))\n",
    "inec = inec.withColumn(\"ProvinciaCantonDistrito\", F.when(F.col(\"ProvinciaCantonDistrito\")=='belén','belen').otherwise(F.col(\"ProvinciaCantonDistrito\")))\n",
    "inec = inec.withColumn(\"ProvinciaCantonDistrito\", F.when(F.col(\"ProvinciaCantonDistrito\")=='león cortés castro','leon cortes').otherwise(F.col(\"ProvinciaCantonDistrito\")))\n",
    "inec = inec.withColumn(\"ProvinciaCantonDistrito\", F.when(F.col(\"ProvinciaCantonDistrito\")=='san josé','san jose').otherwise(F.col(\"ProvinciaCantonDistrito\")))\n",
    "#se guarda el dataframe modificado como una tabla\n",
    "sqlContext.registerDataFrameAsTable(inec, \"inec\")"
   ]
  },
  {
   "cell_type": "code",
   "execution_count": 36,
   "metadata": {},
   "outputs": [],
   "source": [
    "#Se integran por medio de un inner join los conjuntos de datos,y se almacenan como un nuevo dataframe\n",
    "#este dataframe será enviado a postgres\n",
    "datosIntegrados = sqlContext.sql(\"SELECT a.Delito, a.SubDelito, a.Hora, a.Fecha, a.Victima, a.SubVictima, a.Edad, a.Genero, a.Nacionalidad, a.Provincia, a.Canton, a.Distrito, b.PoblacionMayor15, b.TasaNetaParticipacion, b.TasaOcupacion, b.TasaDesempleoAbierto, b.PorcentajeEconomicamenteInactivo, b.RelacionDependenciaEconomica FROM oij a INNER JOIN inec b ON a.Distrito = b.ProvinciaCantonDistrito\")"
   ]
  },
  {
   "cell_type": "code",
   "execution_count": 37,
   "metadata": {
    "scrolled": true
   },
   "outputs": [
    {
     "name": "stdout",
     "output_type": "stream",
     "text": [
      "root\n",
      " |-- Delito: string (nullable = true)\n",
      " |-- SubDelito: string (nullable = true)\n",
      " |-- Hora: string (nullable = true)\n",
      " |-- Fecha: string (nullable = true)\n",
      " |-- Victima: string (nullable = true)\n",
      " |-- SubVictima: string (nullable = true)\n",
      " |-- Edad: string (nullable = true)\n",
      " |-- Genero: string (nullable = true)\n",
      " |-- Nacionalidad: string (nullable = true)\n",
      " |-- Provincia: string (nullable = true)\n",
      " |-- Canton: string (nullable = true)\n",
      " |-- Distrito: string (nullable = true)\n",
      " |-- PoblacionMayor15: long (nullable = true)\n",
      " |-- TasaNetaParticipacion: double (nullable = true)\n",
      " |-- TasaOcupacion: double (nullable = true)\n",
      " |-- TasaDesempleoAbierto: double (nullable = true)\n",
      " |-- PorcentajeEconomicamenteInactivo: double (nullable = true)\n",
      " |-- RelacionDependenciaEconomica: double (nullable = true)\n",
      "\n"
     ]
    }
   ],
   "source": [
    "datosIntegrados.printSchema()"
   ]
  },
  {
   "cell_type": "code",
   "execution_count": 38,
   "metadata": {},
   "outputs": [],
   "source": [
    "datosIntegrados=datosIntegrados.withColumn('TasaDesempleoAbierto',datosIntegrados['TasaDesempleoAbierto'].cast(\"float\").alias('TasaDesempleoAbierto'))\n",
    "datosIntegrados=datosIntegrados.withColumn('TasaNetaParticipacion',datosIntegrados['TasaNetaParticipacion'].cast(\"float\").alias('TasaNetaParticipacion'))\n",
    "datosIntegrados=datosIntegrados.withColumn('TasaOcupacion',datosIntegrados['TasaOcupacion'].cast(\"float\").alias('TasaOcupacion'))\n",
    "datosIntegrados=datosIntegrados.withColumn('PorcentajeEconomicamenteInactivo',datosIntegrados['PorcentajeEconomicamenteInactivo'].cast(\"float\").alias('PorcentajeEconomicamenteInactivo'))\n",
    "datosIntegrados=datosIntegrados.withColumn('RelacionDependenciaEconomica',datosIntegrados['RelacionDependenciaEconomica'].cast(\"float\").alias('RelacionDependenciaEconomica'))\n",
    "datosIntegrados=datosIntegrados.withColumn('Fecha',to_date(unix_timestamp(col('Fecha'), 'yyyy-MM-dd').cast(\"timestamp\")))"
   ]
  },
  {
   "cell_type": "code",
   "execution_count": 39,
   "metadata": {},
   "outputs": [
    {
     "name": "stdout",
     "output_type": "stream",
     "text": [
      "root\n",
      " |-- Delito: string (nullable = true)\n",
      " |-- SubDelito: string (nullable = true)\n",
      " |-- Hora: string (nullable = true)\n",
      " |-- Fecha: date (nullable = true)\n",
      " |-- Victima: string (nullable = true)\n",
      " |-- SubVictima: string (nullable = true)\n",
      " |-- Edad: string (nullable = true)\n",
      " |-- Genero: string (nullable = true)\n",
      " |-- Nacionalidad: string (nullable = true)\n",
      " |-- Provincia: string (nullable = true)\n",
      " |-- Canton: string (nullable = true)\n",
      " |-- Distrito: string (nullable = true)\n",
      " |-- PoblacionMayor15: long (nullable = true)\n",
      " |-- TasaNetaParticipacion: float (nullable = true)\n",
      " |-- TasaOcupacion: float (nullable = true)\n",
      " |-- TasaDesempleoAbierto: float (nullable = true)\n",
      " |-- PorcentajeEconomicamenteInactivo: float (nullable = true)\n",
      " |-- RelacionDependenciaEconomica: float (nullable = true)\n",
      "\n"
     ]
    }
   ],
   "source": [
    "datosIntegrados.printSchema()"
   ]
  },
  {
   "cell_type": "code",
   "execution_count": 40,
   "metadata": {
    "scrolled": true
   },
   "outputs": [
    {
     "name": "stdout",
     "output_type": "stream",
     "text": [
      "+------+-----------+-------------------+----------+-----------+--------------------+-------------+------+------------+----------+-------------+-------------+----------------+---------------------+-------------+--------------------+--------------------------------+----------------------------+\n",
      "|Delito|  SubDelito|               Hora|     Fecha|    Victima|          SubVictima|         Edad|Genero|Nacionalidad| Provincia|       Canton|     Distrito|PoblacionMayor15|TasaNetaParticipacion|TasaOcupacion|TasaDesempleoAbierto|PorcentajeEconomicamenteInactivo|RelacionDependenciaEconomica|\n",
      "+------+-----------+-------------------+----------+-----------+--------------------+-------------+------+------------+----------+-------------+-------------+----------------+---------------------+-------------+--------------------+--------------------------------+----------------------------+\n",
      "|ASALTO|ARMA BLANCA|15:00:00 - 17:59:59|2011-01-10|    PERSONA|MENOR DE EDAD [PE...|Menor de edad|HOMBRE|  COSTA RICA|PUNTARENAS| BUENOS AIRES| buenos aires|           20197|                 50.8|        49.25|                 3.0|                            49.2|                        1.75|\n",
      "|ASALTO|ARMA BLANCA|18:00:00 - 20:59:59|2011-02-02|    PERSONA|CLIENTE LOCAL COM...|Mayor de edad|HOMBRE|  COSTA RICA|   HEREDIA|      HEREDIA|san francisco|           42537|                 56.4|    54.466667|           3.4333334|                            43.6|                   1.2333333|\n",
      "|ASALTO|ARMA BLANCA|18:00:00 - 20:59:59|2011-10-23|EDIFICACION|TIENDA/BOUTIQUE [...|Mayor de edad| MUJER|  COSTA RICA|  ALAJUELA|   SAN CARLOS|      pocosol|           10471|                 47.1|         45.6|                 3.0|                            52.9|                         2.1|\n",
      "|ASALTO|ARMA BLANCA|21:00:00 - 23:59:59|2011-05-19|    PERSONA|    PEATON [PERSONA]|Menor de edad| MUJER|  COSTA RICA|PUNTARENAS|   PUNTARENAS|   puntarenas|            6801|                 53.3|         51.4|                 3.4|                            46.7|                         1.3|\n",
      "|ASALTO|ARMA BLANCA|21:00:00 - 23:59:59|2011-01-19|    PERSONA|   TAXISTA [PERSONA]|Mayor de edad|HOMBRE|  COSTA RICA|PUNTARENAS|   CORREDORES|       canoas|            7973|                 49.1|         48.0|                 2.3|                            50.9|                         1.9|\n",
      "|ASALTO|ARMA BLANCA|15:00:00 - 17:59:59|2011-01-19|    PERSONA|MENOR DE EDAD [PE...|Menor de edad|HOMBRE|  COSTA RICA|  SAN JOSE|     SAN JOSE|     hospital|           15096|                 56.4|         53.9|                 4.4|                            43.6|                         1.3|\n",
      "|ASALTO|ARMA BLANCA|18:00:00 - 20:59:59|2011-01-07|    PERSONA|    PEATON [PERSONA]|Mayor de edad|HOMBRE|   NICARAGUA|  SAN JOSE|     SAN JOSE|       merced|            9655|                 59.2|         57.0|                 3.8|                            40.8|                         1.1|\n",
      "|ASALTO|ARMA BLANCA|21:00:00 - 23:59:59|2011-01-07|    PERSONA|    PEATON [PERSONA]|Mayor de edad|HOMBRE|  COSTA RICA|  SAN JOSE|     SAN JOSE|       carmen|           13726|                 53.7|         52.1|                 3.0|                            46.3|                         1.4|\n",
      "|ASALTO|ARMA BLANCA|21:00:00 - 23:59:59|2011-01-07|    PERSONA|    PEATON [PERSONA]|Mayor de edad|HOMBRE|  COSTA RICA|  SAN JOSE|     SAN JOSE|       carmen|            2431|                 56.3|         54.8|                 2.7|                            43.7|                         1.0|\n",
      "|ASALTO|ARMA BLANCA|18:00:00 - 20:59:59|2011-09-26|    PERSONA|    PEATON [PERSONA]|Mayor de edad|HOMBRE|   NICARAGUA|  SAN JOSE|     SAN JOSE|     hospital|           15096|                 56.4|         53.9|                 4.4|                            43.6|                         1.3|\n",
      "|ASALTO|ARMA BLANCA|21:00:00 - 23:59:59|2011-01-10|    PERSONA|    PEATON [PERSONA]|Mayor de edad| MUJER|  COSTA RICA|  ALAJUELA|   SAN CARLOS|      quesada|           31319|                 57.0|         55.6|                 2.5|                            43.0|                         1.4|\n",
      "|ASALTO|ARMA BLANCA|09:00:00 - 11:59:59|2011-01-16|    PERSONA|    PEATON [PERSONA]|Mayor de edad| MUJER|  COSTA RICA|   CARTAGO|      CARTAGO| dulce nombre|           13622|                56.75|         54.8|                3.35|                           43.25|                        1.35|\n",
      "|ASALTO|ARMA BLANCA|21:00:00 - 23:59:59|2011-01-20|    PERSONA|    PEATON [PERSONA]|Mayor de edad|HOMBRE|  COSTA RICA|  SAN JOSE|     SAN JOSE|     hospital|           15096|                 56.4|         53.9|                 4.4|                            43.6|                         1.3|\n",
      "|ASALTO|ARMA BLANCA|06:00:00 - 08:59:59|2011-01-21|    PERSONA|    PEATON [PERSONA]|Mayor de edad|HOMBRE|   NICARAGUA|  SAN JOSE|     SAN JOSE|     hospital|           15096|                 56.4|         53.9|                 4.4|                            43.6|                         1.3|\n",
      "|ASALTO|ARMA BLANCA|15:00:00 - 17:59:59|2011-02-08|    PERSONA|    PEATON [PERSONA]|Mayor de edad|HOMBRE|  COSTA RICA|     LIMON|    SIQUIRRES|    siquirres|           22430|                 51.2|         49.3|                 3.8|                            48.8|                         1.8|\n",
      "|ASALTO|ARMA BLANCA|12:00:00 - 14:59:59|2011-08-18|    PERSONA|    PEATON [PERSONA]|Mayor de edad|HOMBRE|  COSTA RICA|     LIMON|    SIQUIRRES|    siquirres|           22430|                 51.2|         49.3|                 3.8|                            48.8|                         1.8|\n",
      "|ASALTO|ARMA BLANCA|21:00:00 - 23:59:59|2011-02-01|    PERSONA|    PEATON [PERSONA]|Mayor de edad| MUJER|  COSTA RICA|   CARTAGO|      CARTAGO|   occidental|            8363|                 52.0|         50.7|                 2.6|                            48.0|                         1.3|\n",
      "|ASALTO|ARMA BLANCA|00:00:00 - 02:59:59|2011-02-05|    PERSONA|    PEATON [PERSONA]|Menor de edad|HOMBRE|  COSTA RICA|  SAN JOSE|   ALAJUELITA|   alajuelita|            9282|                 58.1|         56.1|                 3.4|                            41.9|                         1.2|\n",
      "|ASALTO|ARMA BLANCA|18:00:00 - 20:59:59|2011-02-10|    PERSONA|    PEATON [PERSONA]|Mayor de edad|HOMBRE|  COSTA RICA|  SAN JOSE|PEREZ ZELEDON|daniel flores|           24565|                 49.3|         47.5|                 3.7|                            50.7|                         1.8|\n",
      "|ASALTO|ARMA BLANCA|09:00:00 - 11:59:59|2011-01-29|    PERSONA|    PEATON [PERSONA]|Mayor de edad|HOMBRE|  COSTA RICA|  ALAJUELA|     ALAJUELA|     alajuela|           34485|                 55.1|         53.4|                 3.1|                            44.9|                         1.3|\n",
      "+------+-----------+-------------------+----------+-----------+--------------------+-------------+------+------------+----------+-------------+-------------+----------------+---------------------+-------------+--------------------+--------------------------------+----------------------------+\n",
      "only showing top 20 rows\n",
      "\n"
     ]
    }
   ],
   "source": [
    "datosIntegrados.show()"
   ]
  },
  {
   "cell_type": "code",
   "execution_count": 41,
   "metadata": {},
   "outputs": [],
   "source": [
    "spark = SparkSession \\\n",
    "    .builder \\\n",
    "    .appName(\"Basic JDBC pipeline\") \\\n",
    "    .config(\"spark.driver.extraClassPath\", \"postgresql-42.1.4.jar\") \\\n",
    "    .config(\"spark.executor.extraClassPath\", \"postgresql-42.1.4.jar\") \\\n",
    "    .getOrCreate()"
   ]
  },
  {
   "cell_type": "code",
   "execution_count": 42,
   "metadata": {},
   "outputs": [],
   "source": [
    "def mandaPostgres(dataframe, nombre):\n",
    "    dataframe \\\n",
    "        .write \\\n",
    "        .format(\"jdbc\") \\\n",
    "        .mode('overwrite') \\\n",
    "        .option(\"url\", \"jdbc:postgresql://localhost/\") \\\n",
    "        .option(\"user\", \"postgres\") \\\n",
    "        .option(\"password\", \"password\") \\\n",
    "        .option(\"dbtable\", nombre) \\\n",
    "        .save()"
   ]
  },
  {
   "cell_type": "code",
   "execution_count": 43,
   "metadata": {},
   "outputs": [],
   "source": [
    "import matplotlib\n",
    "import matplotlib.pyplot as plt\n",
    "import numpy as np\n",
    "import pandas"
   ]
  },
  {
   "cell_type": "code",
   "execution_count": 44,
   "metadata": {},
   "outputs": [],
   "source": [
    "mandaPostgres(datosIntegrados.select(\"Delito\",\"SubDelito\",\"Hora\",\"Fecha\",\"Victima\",\"SubVictima\",\"Edad\",\"Genero\",\"Nacionalidad\",\"Provincia\",\"Canton\",\"Distrito\",\"PoblacionMayor15\",\"TasaNetaParticipacion\",\"TasaOcupacion\",\"TasaDesempleoAbierto\",\"PorcentajeEconomicamenteInactivo\",\"RelacionDependenciaEconomica\"),\"prueba\")\n"
   ]
  },
  {
   "cell_type": "code",
   "execution_count": 45,
   "metadata": {},
   "outputs": [],
   "source": [
    "sqlContext.registerDataFrameAsTable(datosIntegrados,\"datosIntegrados\")\n",
    "def top10Distritos():\n",
    "    return sqlContext.sql(\"SELECT DISTINCT distrito, COUNT(delito) as Cantidad_Delitos, SUM(tasaocupacion)/COUNT(delito) as Tasa_Ocupacion FROM datosIntegrados group by distrito order by 2 DESC LIMIT 10\") "
   ]
  },
  {
   "cell_type": "code",
   "execution_count": 46,
   "metadata": {},
   "outputs": [],
   "source": [
    "top10Distritos=top10Distritos()"
   ]
  },
  {
   "cell_type": "code",
   "execution_count": 47,
   "metadata": {},
   "outputs": [
    {
     "name": "stdout",
     "output_type": "stream",
     "text": [
      "+----------+----------------+------------------+\n",
      "|  distrito|Cantidad_Delitos|    Tasa_Ocupacion|\n",
      "+----------+----------------+------------------+\n",
      "|    carmen|            1346| 53.44999885559082|\n",
      "|san rafael|            1262| 52.58333206176758|\n",
      "|   liberia|            1108|50.099998474121094|\n",
      "|  hospital|            1079|53.900001525878906|\n",
      "|  catedral|            1073|              57.0|\n",
      "| san pedro|            1011|  49.9571418762207|\n",
      "|  alajuela|             990|53.400001525878906|\n",
      "|     uruca|             984|57.349998474121094|\n",
      "|    quepos|             857|              54.0|\n",
      "|    merced|             850|              57.0|\n",
      "+----------+----------------+------------------+\n",
      "\n"
     ]
    }
   ],
   "source": [
    "top10Distritos.show()"
   ]
  },
  {
   "cell_type": "code",
   "execution_count": 56,
   "metadata": {},
   "outputs": [
    {
     "data": {
      "image/png": "[encoded data removed]",
      "text/plain": [
       "<Figure size 432x288 with 1 Axes>"
      ]
     },
     "metadata": {
      "needs_background": "light"
     },
     "output_type": "display_data"
    },
    {
     "data": {
      "image/png": "[encoded data removed]",
      "text/plain": [
       "<Figure size 432x288 with 1 Axes>"
      ]
     },
     "metadata": {
      "needs_background": "light"
     },
     "output_type": "display_data"
    }
   ],
   "source": [
    "y= top10Distritos.toPandas() [\"distrito\"].values.tolist()\n",
    "x= top10Distritos.toPandas() [\"Cantidad_Delitos\"].values.tolist()\n",
    "z= top10Distritos.toPandas() [\"Tasa_Ocupacion\"].values.tolist()\n",
    "#Obtenemos una lista con las posiciones\n",
    "y_pos = np.arange(len(y))\n",
    "#Creamos la grafica pasando los valores en el eje X, Y\n",
    "plt.barh(y_pos[::-1], x, align='center', alpha=1)\n",
    "#Añadimos la etiqueta de nombre de cada distrito\n",
    "plt.yticks(y_pos, y[::-1])\n",
    "#añadimos una etiqueta en el eje X\n",
    "plt.xlabel('Cantidad Delitos')\n",
    "#Y una etiqueta superior\n",
    "plt.title('Top 10 distritos con más Cantidad de Delitos')\n",
    "plt.show()\n",
    "\n",
    "#Obtenemos una lista con las posiciones\n",
    "y_pos = np.arange(len(y))\n",
    "#Creamos la grafica pasando los valores en el eje X, Y\n",
    "plt.barh(y_pos[::-1], z, align='center', alpha=1)\n",
    "#Añadimos la etiqueta de nombre de cada distrito\n",
    "plt.yticks(y_pos, y[::-1])\n",
    "#añadimos una etiqueta en el eje X\n",
    "plt.xlabel('Tasa de Ocupación')\n",
    "#Y una etiqueta superior\n",
    "plt.title('Top 10 distritos con más Cantidad de Delitos y con su Tasa de Ocupación')\n",
    "plt.show()\n"
   ]
  },
  {
   "cell_type": "code",
   "execution_count": 104,
   "metadata": {},
   "outputs": [],
   "source": [
    "def delitosDia():\n",
    "    return sqlContext.sql(\"SELECT distrito,COUNT(delito) as Cantidad_Delitos,Fecha, date_format(Fecha, 'EEEE') as Dia_Semana FROM datosIntegrados WHERE distrito='carmen' group by distrito,Fecha\") "
   ]
  },
  {
   "cell_type": "code",
   "execution_count": 105,
   "metadata": {},
   "outputs": [],
   "source": [
    "delitosDia=delitosDia()"
   ]
  },
  {
   "cell_type": "code",
   "execution_count": 106,
   "metadata": {},
   "outputs": [
    {
     "name": "stdout",
     "output_type": "stream",
     "text": [
      "+--------+----------------+----------+----------+\n",
      "|distrito|Cantidad_Delitos|     Fecha|Dia_Semana|\n",
      "+--------+----------------+----------+----------+\n",
      "|  carmen|               6|2011-09-25|    Sunday|\n",
      "|  carmen|               2|2011-10-09|    Sunday|\n",
      "|  carmen|              10|2011-09-02|    Friday|\n",
      "|  carmen|               8|2011-01-22|  Saturday|\n",
      "|  carmen|               2|2011-05-10|   Tuesday|\n",
      "|  carmen|               6|2011-06-10|    Friday|\n",
      "|  carmen|               4|2011-08-26|    Friday|\n",
      "|  carmen|               4|2011-06-08| Wednesday|\n",
      "|  carmen|               4|2011-10-22|  Saturday|\n",
      "|  carmen|               6|2011-06-03|    Friday|\n",
      "|  carmen|               2|2011-03-07|    Monday|\n",
      "|  carmen|               4|2011-11-14|    Monday|\n",
      "|  carmen|              10|2011-10-02|    Sunday|\n",
      "|  carmen|               8|2011-04-16|  Saturday|\n",
      "|  carmen|               2|2011-08-17| Wednesday|\n",
      "|  carmen|               6|2011-07-11|    Monday|\n",
      "|  carmen|               6|2011-05-24|   Tuesday|\n",
      "|  carmen|               2|2011-10-23|    Sunday|\n",
      "|  carmen|               4|2011-01-24|    Monday|\n",
      "|  carmen|               4|2011-01-15|  Saturday|\n",
      "+--------+----------------+----------+----------+\n",
      "only showing top 20 rows\n",
      "\n"
     ]
    }
   ],
   "source": [
    "delitosDia.show()"
   ]
  },
  {
   "cell_type": "code",
   "execution_count": 107,
   "metadata": {},
   "outputs": [
    {
     "data": {
      "image/png": "[encoded data removed]",
      "text/plain": [
       "<Figure size 432x288 with 1 Axes>"
      ]
     },
     "metadata": {
      "needs_background": "light"
     },
     "output_type": "display_data"
    }
   ],
   "source": [
    "x=delitosDia.toPandas() [\"Dia_Semana\"].values.tolist()\n",
    "\n",
    "y= delitosDia.toPandas() [\"Cantidad_Delitos\"].values.tolist()\n",
    " \n",
    "fig, ax = plt.subplots()\n",
    "#Colocamos una etiqueta en el eje Y\n",
    "ax.set_ylabel('Cantidad Delitos')\n",
    "#Colocamos una etiqueta en el eje X\n",
    "ax.set_title('Cantidad de delitos por día de la semana para el distrito con más delitos')\n",
    "#Creamos la grafica de barras utilizando x,y\n",
    "plt.bar(x, y)\n",
    "#Finalmente mostramos la grafica con el metodo show()\n",
    "plt.show()"
   ]
  },
  {
   "cell_type": "code",
   "execution_count": 100,
   "metadata": {},
   "outputs": [],
   "source": [
    "def delitosTipo():\n",
    "    return sqlContext.sql(\"SELECT distrito,COUNT(delito) as Cantidad_Delitos, delito as Tipo_Delito FROM datosIntegrados WHERE distrito='carmen' group by distrito,delito \") "
   ]
  },
  {
   "cell_type": "code",
   "execution_count": 101,
   "metadata": {},
   "outputs": [],
   "source": [
    "delitosTipo=delitosTipo()"
   ]
  },
  {
   "cell_type": "code",
   "execution_count": 102,
   "metadata": {},
   "outputs": [
    {
     "name": "stdout",
     "output_type": "stream",
     "text": [
      "+--------+----------------+-----------------+\n",
      "|distrito|Cantidad_Delitos|      Tipo_Delito|\n",
      "+--------+----------------+-----------------+\n",
      "|  carmen|             528|            HURTO|\n",
      "|  carmen|              84| ROBO DE VEHICULO|\n",
      "|  carmen|             514|           ASALTO|\n",
      "|  carmen|             134|             ROBO|\n",
      "|  carmen|              86|TACHA DE VEHICULO|\n",
      "+--------+----------------+-----------------+\n",
      "\n"
     ]
    }
   ],
   "source": [
    "delitosTipo.show()"
   ]
  },
  {
   "cell_type": "code",
   "execution_count": 103,
   "metadata": {},
   "outputs": [
    {
     "data": {
      "image/png": "[encoded data removed]",
      "text/plain": [
       "<Figure size 432x288 with 1 Axes>"
      ]
     },
     "metadata": {
      "needs_background": "light"
     },
     "output_type": "display_data"
    }
   ],
   "source": [
    "x=delitosTipo.toPandas() [\"Tipo_Delito\"].values.tolist()\n",
    "\n",
    "y= delitosTipo.toPandas() [\"Cantidad_Delitos\"].values.tolist()\n",
    " \n",
    "fig, ax = plt.subplots()\n",
    "#Colocamos una etiqueta en el eje Y\n",
    "ax.set_ylabel('Cantidad Delitos')\n",
    "#Colocamos una etiqueta en el eje X\n",
    "ax.set_title('Cantidad de delitos por tipo para el distrito con más delitos')\n",
    "#Creamos la grafica de barras utilizando x,y\n",
    "plt.bar(x, y)\n",
    "#Finalmente mostramos la grafica con el metodo show()\n",
    "plt.show()"
   ]
  },
  {
   "cell_type": "code",
   "execution_count": 125,
   "metadata": {},
   "outputs": [],
   "source": [
    "def delitosSexo():\n",
    "    return sqlContext.sql(\"SELECT genero, COUNT(delito) as Cantidad_Delitos FROM datosIntegrados group by genero order by Cantidad_Delitos DESC\") "
   ]
  },
  {
   "cell_type": "code",
   "execution_count": 126,
   "metadata": {},
   "outputs": [],
   "source": [
    "delitosSexo=delitosSexo()"
   ]
  },
  {
   "cell_type": "code",
   "execution_count": 127,
   "metadata": {},
   "outputs": [
    {
     "name": "stdout",
     "output_type": "stream",
     "text": [
      "+-----------+----------------+\n",
      "|     genero|Cantidad_Delitos|\n",
      "+-----------+----------------+\n",
      "|     HOMBRE|           26978|\n",
      "|      MUJER|           11103|\n",
      "|DESCONOCIDO|             194|\n",
      "+-----------+----------------+\n",
      "\n"
     ]
    }
   ],
   "source": [
    "delitosSexo.show()"
   ]
  },
  {
   "cell_type": "code",
   "execution_count": 130,
   "metadata": {},
   "outputs": [
    {
     "data": {
      "image/png": "[encoded data removed]",
      "text/plain": [
       "<Figure size 432x288 with 1 Axes>"
      ]
     },
     "metadata": {
      "needs_background": "light"
     },
     "output_type": "display_data"
    }
   ],
   "source": [
    "x=delitosSexo.toPandas() [\"genero\"].values.tolist()\n",
    "\n",
    "y= delitosSexo.toPandas() [\"Cantidad_Delitos\"].values.tolist()\n",
    " \n",
    "fig, ax = plt.subplots()\n",
    "#Colocamos una etiqueta en el eje Y\n",
    "ax.set_ylabel('Cantidad Delitos')\n",
    "#Colocamos una etiqueta en el eje X\n",
    "ax.set_title('Cantidad de delitos por sexo')\n",
    "#Creamos la grafica de barras utilizando x,y\n",
    "plt.bar(x, y)\n",
    "#Finalmente mostramos la grafica con el metodo show()\n",
    "plt.show()"
   ]
  },
  {
   "cell_type": "code",
   "execution_count": 138,
   "metadata": {},
   "outputs": [],
   "source": [
    "def subdelitosCant():\n",
    "    return sqlContext.sql(\"SELECT Subdelito, COUNT(delito) as Cantidad_Delitos FROM datosIntegrados group by Subdelito ORDER BY Cantidad_Delitos DESC limit 10\") "
   ]
  },
  {
   "cell_type": "code",
   "execution_count": 139,
   "metadata": {},
   "outputs": [],
   "source": [
    "subdelitosCant=subdelitosCant()"
   ]
  },
  {
   "cell_type": "code",
   "execution_count": 140,
   "metadata": {},
   "outputs": [
    {
     "name": "stdout",
     "output_type": "stream",
     "text": [
      "+-----------------+----------------+\n",
      "|        Subdelito|Cantidad_Delitos|\n",
      "+-----------------+----------------+\n",
      "|    ARMA DE FUEGO|            6132|\n",
      "|        FORZADURA|            5897|\n",
      "|     POR DESCUIDO|            4974|\n",
      "|TACHA DE VEHICULO|            3534|\n",
      "|         DESCUIDO|            2325|\n",
      "|      ARMA BLANCA|            2229|\n",
      "|    POR CONFIANZA|            2043|\n",
      "|         ARREBATO|            1111|\n",
      "|          BOQUETE|            1044|\n",
      "|  QUITAN CELOSIAS|             957|\n",
      "+-----------------+----------------+\n",
      "\n"
     ]
    }
   ],
   "source": [
    "subdelitosCant.show()"
   ]
  },
  {
   "cell_type": "code",
   "execution_count": 142,
   "metadata": {},
   "outputs": [
    {
     "data": {
      "image/png": "[encoded data removed]",
      "text/plain": [
       "<Figure size 432x288 with 1 Axes>"
      ]
     },
     "metadata": {
      "needs_background": "light"
     },
     "output_type": "display_data"
    }
   ],
   "source": [
    "y=subdelitosCant.toPandas() [\"Subdelito\"].values.tolist()\n",
    "\n",
    "x= subdelitosCant.toPandas() [\"Cantidad_Delitos\"].values.tolist()\n",
    "\n",
    "#Obtenemos una lista con las posiciones\n",
    "y_pos = np.arange(len(y))\n",
    "#Creamos la grafica pasando los valores en el eje X, Y\n",
    "plt.barh(y_pos[::-1], x, align='center', alpha=1)\n",
    "#Añadimos la etiqueta de nombre de cada distrito\n",
    "plt.yticks(y_pos, y[::-1])\n",
    "#añadimos una etiqueta en el eje X\n",
    "plt.xlabel('Cantidad Delitos')\n",
    "#Y una etiqueta superior\n",
    "plt.title('Top 10 Tipo de Subdelitos con su respectiva cantidad')\n",
    "plt.show()"
   ]
  },
  {
   "cell_type": "code",
   "execution_count": null,
   "metadata": {},
   "outputs": [],
   "source": []
  },
  {
   "cell_type": "code",
   "execution_count": null,
   "metadata": {},
   "outputs": [],
   "source": []
  },
  {
   "cell_type": "code",
   "execution_count": null,
   "metadata": {},
   "outputs": [],
   "source": []
  }
 ],
 "metadata": {
  "kernelspec": {
   "display_name": "Python 3",
   "language": "python",
   "name": "python3"
  },
  "language_info": {
   "codemirror_mode": {
    "name": "ipython",
    "version": 3
   },
   "file_extension": ".py",
   "mimetype": "text/x-python",
   "name": "python",
   "nbconvert_exporter": "python",
   "pygments_lexer": "ipython3",
   "version": "3.6.5"
  }
 },
 "nbformat": 4,
 "nbformat_minor": 4
}
