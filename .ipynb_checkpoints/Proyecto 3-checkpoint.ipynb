{
 "cells": [
  {
   "cell_type": "code",
   "execution_count": 1,
   "metadata": {},
   "outputs": [],
   "source": [
    "from pyspark.sql import SparkSession\n",
    "from pyspark.files import SparkFiles"
   ]
  },
  {
   "cell_type": "code",
   "execution_count": 3,
   "metadata": {},
   "outputs": [],
   "source": [
    "oij_csv=spark.read.format(\"csv\").option(\"header\",\"true\").option(\"inferSchema\",\"true\").load(\"Estadisticas.csv\")"
   ]
  },
  {
   "cell_type": "code",
   "execution_count": 4,
   "metadata": {},
   "outputs": [
    {
     "name": "stdout",
     "output_type": "stream",
     "text": [
      "+------+-----------+----------+-------------------+----------+--------------------+-------------+------------+-----------+----------+-------------+----+\n",
      "|Delito|  SubDelito|     Fecha|            Victima|SubVictima|                Edad|       Genero|Nacionalidad|  Provincia|    Canton|     Distrito|_c11|\n",
      "+------+-----------+----------+-------------------+----------+--------------------+-------------+------------+-----------+----------+-------------+----+\n",
      "|ASALTO|ARMA BLANCA|2011-01-10|18:00:00 - 20:59:59|   PERSONA|    PEATON [PERSONA]|Mayor de edad|      HOMBRE|  NICARAGUA|  SAN JOSE|   ALAJUELITA|null|\n",
      "|ASALTO|ARMA BLANCA|2011-02-02|03:00:00 - 05:59:59|   PERSONA|    PEATON [PERSONA]|Mayor de edad|      HOMBRE| COSTA RICA|   CARTAGO|     OREAMUNO|null|\n",
      "|ASALTO|ARMA BLANCA|2011-10-23|21:00:00 - 23:59:59|   PERSONA|    PEATON [PERSONA]|Mayor de edad|      HOMBRE| COSTA RICA|   HEREDIA|      HEREDIA|null|\n",
      "|ASALTO|ARMA BLANCA|2011-05-19|18:00:00 - 20:59:59|   PERSONA|    PEATON [PERSONA]|Mayor de edad|       MUJER| COSTA RICA|   HEREDIA|      HEREDIA|null|\n",
      "|ASALTO|ARMA BLANCA|2011-02-02|03:00:00 - 05:59:59|   PERSONA|    PEATON [PERSONA]|Mayor de edad|      HOMBRE| COSTA RICA|GUANACASTE|      LIBERIA|null|\n",
      "|ASALTO|ARMA BLANCA|2011-01-19|00:00:00 - 02:59:59|   PERSONA|    PEATON [PERSONA]|Mayor de edad|      HOMBRE| COSTA RICA|  SAN JOSE|     SAN JOSE|null|\n",
      "|ASALTO|ARMA BLANCA|2011-01-19|06:00:00 - 08:59:59|   PERSONA|    PEATON [PERSONA]|Mayor de edad|       MUJER| COSTA RICA|  SAN JOSE|   GOICOECHEA|null|\n",
      "|ASALTO|ARMA BLANCA|2011-01-07|18:00:00 - 20:59:59|   PERSONA|    PEATON [PERSONA]|Mayor de edad|       MUJER| COSTA RICA|  SAN JOSE|MONTES DE OCA|null|\n",
      "|ASALTO|ARMA BLANCA|2011-01-07|09:00:00 - 11:59:59|     OTROS| NO DEFINIDO [OTROS]|Menor de edad|      HOMBRE|Desconocido|  SAN JOSE|     SAN JOSE|null|\n",
      "|ASALTO|ARMA BLANCA|2011-01-12|21:00:00 - 23:59:59|   PERSONA|    PEATON [PERSONA]|Mayor de edad|      HOMBRE| COSTA RICA|  SAN JOSE|   CURRIDABAT|null|\n",
      "|ASALTO|ARMA BLANCA|2011-09-26|00:00:00 - 02:59:59|   PERSONA|    PEATON [PERSONA]|Mayor de edad|      HOMBRE| COSTA RICA|  SAN JOSE|PEREZ ZELEDON|null|\n",
      "|ASALTO|ARMA BLANCA|2011-01-10|06:00:00 - 08:59:59|  VEHICULO|CARGA LIVIANA/REP...|Mayor de edad|      HOMBRE| COSTA RICA|     LIMON|        LIMON|null|\n",
      "|ASALTO|ARMA BLANCA|2011-01-17|03:00:00 - 05:59:59|   PERSONA|    PEATON [PERSONA]|Mayor de edad|      HOMBRE| COSTA RICA|     LIMON|        LIMON|null|\n",
      "|ASALTO|ARMA BLANCA|2011-01-16|18:00:00 - 20:59:59|   PERSONA|    PEATON [PERSONA]|Mayor de edad|      HOMBRE|  NICARAGUA|  SAN JOSE|     SAN JOSE|null|\n",
      "|ASALTO|ARMA BLANCA|2011-01-24|03:00:00 - 05:59:59|   PERSONA|    PEATON [PERSONA]|Mayor de edad|      HOMBRE| COSTA RICA|  SAN JOSE| DESAMPARADOS|null|\n",
      "|ASALTO|ARMA BLANCA|2011-01-20|18:00:00 - 20:59:59|   PERSONA|    PEATON [PERSONA]|Mayor de edad|      HOMBRE|  NICARAGUA|PUNTARENAS|   PUNTARENAS|null|\n",
      "|ASALTO|ARMA BLANCA|2011-01-21|09:00:00 - 11:59:59|   PERSONA|    PEATON [PERSONA]|Mayor de edad|      HOMBRE| COSTA RICA|PUNTARENAS|   PUNTARENAS|null|\n",
      "|ASALTO|ARMA BLANCA|2011-02-08|15:00:00 - 17:59:59|   PERSONA|    PEATON [PERSONA]|Menor de edad|      HOMBRE| COSTA RICA|     LIMON|       MATINA|null|\n",
      "|ASALTO|ARMA BLANCA|2011-08-18|09:00:00 - 11:59:59|   PERSONA|ESTUDIANTE [PERSONA]|Menor de edad|      HOMBRE| COSTA RICA|PUNTARENAS|   PUNTARENAS|null|\n",
      "|ASALTO|ARMA BLANCA|2011-01-29|00:00:00 - 02:59:59|   PERSONA|    PEATON [PERSONA]|Mayor de edad|      HOMBRE| COSTA RICA|GUANACASTE|      LIBERIA|null|\n",
      "+------+-----------+----------+-------------------+----------+--------------------+-------------+------------+-----------+----------+-------------+----+\n",
      "only showing top 20 rows\n",
      "\n",
      "root\n",
      " |-- Delito: string (nullable = true)\n",
      " |-- SubDelito: string (nullable = true)\n",
      " |-- Fecha: string (nullable = true)\n",
      " |-- Victima: string (nullable = true)\n",
      " |-- SubVictima: string (nullable = true)\n",
      " |-- Edad: string (nullable = true)\n",
      " |-- Genero: string (nullable = true)\n",
      " |-- Nacionalidad: string (nullable = true)\n",
      " |-- Provincia: string (nullable = true)\n",
      " |-- Canton: string (nullable = true)\n",
      " |-- Distrito: string (nullable = true)\n",
      " |-- _c11: string (nullable = true)\n",
      "\n"
     ]
    }
   ],
   "source": [
    "oij_csv.show()\n",
    "oij_csv.printSchema()"
   ]
  },
  {
   "cell_type": "code",
   "execution_count": 5,
   "metadata": {},
   "outputs": [],
   "source": [
    "inec_csv=spark.read.format(\"csv\").option(\"header\",\"true\").option(\"inferSchema\",\"true\").load(\"reempleocenso2011-22.csv\")"
   ]
  },
  {
   "cell_type": "code",
   "execution_count": 6,
   "metadata": {},
   "outputs": [
    {
     "name": "stdout",
     "output_type": "stream",
     "text": [
      "+-----------+----------------------------+--------------------------+--------------------------+-----------------+-------------------------+-----------------------------------------------+---------------------------------+---------------------------------+----+----+\n",
      "|        _c0|Provincia, cantón y distrito|Población de 15 años y más|Tasa neta de participación|Tasa de ocupación|Tasa de desempleo abierto|Porcentaje de población económicamente inactiva|Relación de dependencia económica|Porcentaje de población ocupada  | _c9|_c10|\n",
      "+-----------+----------------------------+--------------------------+--------------------------+-----------------+-------------------------+-----------------------------------------------+---------------------------------+---------------------------------+----+----+\n",
      "|       null|                        null|                      null|                      null|             null|                     null|                                           null|                             null|                          Sector |null|null|\n",
      "|  Primario\"|                     Sector |                      null|                      null|             null|                     null|                                           null|                             null|                             null|null|null|\n",
      "|Secundario\"|            Sector Terciario|                      null|                      null|             null|                     null|                                           null|                             null|                             null|null|null|\n",
      "|       null|                        null|                      null|                      null|             null|                     null|                                           null|                             null|                             null|null|null|\n",
      "|       null|                 Costa Rica |                   3233882|                      53.5|             51.7|                      3.4|                                           46.5|                              1.5|                             13.9|17.9|68.2|\n",
      "|       null|                        null|                      null|                      null|             null|                     null|                                           null|                             null|                             null|null|null|\n",
      "|       null|                    San José|                   1087315|                      56.0|             54.1|                      3.5|                                           44.0|                              1.3|                              5.5|17.3|77.2|\n",
      "|       null|                        null|                      null|                      null|             null|                     null|                                           null|                             null|                             null|null|null|\n",
      "|       null|                    San José|                    225856|                      56.7|             54.5|                      3.9|                                           43.3|                              1.2|                              0.7|18.9|80.4|\n",
      "|       null|                        null|                      null|                      null|             null|                     null|                                           null|                             null|                             null|null|null|\n",
      "|       null|           Carmen           |                      2431|                      56.3|             54.8|                      2.7|                                           43.7|                              1.0|                              1.6| 8.7|89.7|\n",
      "|       null|             Merced         |                      9655|                      59.2|             57.0|                      3.8|                                           40.8|                              1.1|                              0.8|18.3|80.9|\n",
      "|       null|          Hospital          |                     15096|                      56.4|             53.9|                      4.4|                                           43.6|                              1.3|                              0.5|18.6|80.9|\n",
      "|       null|          Catedral          |                     10742|                      59.0|             57.0|                      3.4|                                           41.0|                              1.0|                              0.5|14.6|84.9|\n",
      "|       null|            Zapote          |                     15545|                      55.7|             54.0|                      2.9|                                           44.3|                              1.2|                              0.6|13.7|85.6|\n",
      "|       null|        San Francisco de ...|                     16895|                      57.4|             56.1|                      2.3|                                           42.6|                              1.1|                              0.5|13.0|86.5|\n",
      "|       null|           Uruca            |                     22717|                      59.0|             56.6|                      4.0|                                           41.0|                              1.4|                              1.0|29.1|69.9|\n",
      "|       null|          Mata Redonda      |                      7077|                      54.0|             52.2|                      3.4|                                           46.0|                              1.2|                              1.1|11.7|87.1|\n",
      "|       null|           Pavas            |                     54510|                      56.3|             53.9|                      4.2|                                           43.7|                              1.3|                              0.7|23.8|75.5|\n",
      "|       null|          Hatillo           |                     39555|                      54.7|             52.2|                      4.6|                                           45.3|                              1.3|                              0.5|16.4|83.2|\n",
      "+-----------+----------------------------+--------------------------+--------------------------+-----------------+-------------------------+-----------------------------------------------+---------------------------------+---------------------------------+----+----+\n",
      "only showing top 20 rows\n",
      "\n",
      "root\n",
      " |-- _c0: string (nullable = true)\n",
      " |-- Provincia, cantón y distrito: string (nullable = true)\n",
      " |-- Población de 15 años y más: integer (nullable = true)\n",
      " |-- Tasa neta de participación: double (nullable = true)\n",
      " |-- Tasa de ocupación: double (nullable = true)\n",
      " |-- Tasa de desempleo abierto: string (nullable = true)\n",
      " |-- Porcentaje de población económicamente inactiva: double (nullable = true)\n",
      " |-- Relación de dependencia económica: double (nullable = true)\n",
      " |-- Porcentaje de población ocupada  : string (nullable = true)\n",
      " |-- _c9: double (nullable = true)\n",
      " |-- _c10: double (nullable = true)\n",
      "\n"
     ]
    }
   ],
   "source": [
    "inec_csv.show()\n",
    "inec_csv.printSchema()"
   ]
  },
  {
   "cell_type": "code",
   "execution_count": null,
   "metadata": {},
   "outputs": [],
   "source": []
  }
 ],
 "metadata": {
  "kernelspec": {
   "display_name": "Python 3",
   "language": "python",
   "name": "python3"
  },
  "language_info": {
   "codemirror_mode": {
    "name": "ipython",
    "version": 3
   },
   "file_extension": ".py",
   "mimetype": "text/x-python",
   "name": "python",
   "nbconvert_exporter": "python",
   "pygments_lexer": "ipython3",
   "version": "3.6.5"
  }
 },
 "nbformat": 4,
 "nbformat_minor": 4
}
