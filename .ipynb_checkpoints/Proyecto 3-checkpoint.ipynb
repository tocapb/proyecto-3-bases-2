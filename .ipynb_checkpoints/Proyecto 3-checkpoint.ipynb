{
 "cells": [
  {
   "cell_type": "markdown",
   "metadata": {},
   "source": [
    "# Descripción del sistema\n",
    "El sistema consiste en el desarrollo de 5 gráficos diferentes, estos gráficos son realizados con dos conjuntos de datos de dos entidades costarricenses diferentes que son el INEC y el OIJ, ambos conjuntos de datos fueron descargados en formato csv y son almacenados como dataframes utilizando la función de spark en python, además de estos los datos son limpiados ya que tienen incongruencias en su formato, una vez con los datos limpios se envían los mismo a postgres y se grafican"
   ]
  },
  {
   "cell_type": "code",
   "execution_count": 6,
   "metadata": {},
   "outputs": [],
   "source": [
    "#Bibliotecas necesarias para el uso de spark\n",
    "from pyspark.sql import SparkSession\n",
    "from pyspark.files import SparkFiles\n",
    "from pyspark.sql import functions as F\n",
    "from pyspark.sql.functions import col, unix_timestamp, to_date"
   ]
  },
  {
   "cell_type": "code",
   "execution_count": 7,
   "metadata": {},
   "outputs": [],
   "source": [
    "#Se guardan ambos archivos como dataframes\n",
    "oij_csv=spark.read.format(\"csv\").option(\"header\",\"true\").option(\"inferSchema\",\"true\").load(\"Estadisticas.csv\")\n",
    "inec_csv=spark.read.format(\"csv\").option(\"header\",\"true\").option(\"inferSchema\",\"true\").load(\"reempleocenso2011-22.csv\")"
   ]
  },
  {
   "cell_type": "code",
   "execution_count": 8,
   "metadata": {},
   "outputs": [
    {
     "name": "stdout",
     "output_type": "stream",
     "text": [
      "root\n",
      " |-- Delito: string (nullable = true)\n",
      " |-- SubDelito: string (nullable = true)\n",
      " |-- Fecha: string (nullable = true)\n",
      " |-- Hora: string (nullable = true)\n",
      " |-- Victima: string (nullable = true)\n",
      " |-- SubVictima: string (nullable = true)\n",
      " |-- Edad: string (nullable = true)\n",
      " |-- Genero: string (nullable = true)\n",
      " |-- Nacionalidad: string (nullable = true)\n",
      " |-- Provincia: string (nullable = true)\n",
      " |-- Canton: string (nullable = true)\n",
      " |-- Distrito: string (nullable = true)\n",
      "\n"
     ]
    }
   ],
   "source": [
    "#Se imprimen ambos esquemas para observar el formato en el que vienen los datos, esto servirá para ajustar\n",
    "#el dataframe a lo que necesitemos\n",
    "#este de abajo será el formato del OIJ\n",
    "oij_csv.printSchema()"
   ]
  },
  {
   "cell_type": "code",
   "execution_count": 9,
   "metadata": {},
   "outputs": [
    {
     "name": "stdout",
     "output_type": "stream",
     "text": [
      "root\n",
      " |-- ProvinciaCantonDistrito: string (nullable = true)\n",
      " |-- PoblacionMayor15: integer (nullable = true)\n",
      " |-- TasaNetaParticipacion: double (nullable = true)\n",
      " |-- TasaOcupacion: double (nullable = true)\n",
      " |-- TasaDesempleoAbierto: string (nullable = true)\n",
      " |-- PorcentajeEconomicamenteInactivo: double (nullable = true)\n",
      " |-- RelacionDependenciaEconomica: double (nullable = true)\n",
      "\n"
     ]
    }
   ],
   "source": [
    "#Este otro formato correspone al INEC\n",
    "inec_csv.printSchema()"
   ]
  },
  {
   "cell_type": "code",
   "execution_count": 10,
   "metadata": {},
   "outputs": [],
   "source": [
    "#Se registran ambos dataframe como tablas de SQL, esto nos permite realizar consultas sql por medio de sqlContext\n",
    "sqlContext.registerDataFrameAsTable(oij_csv, \"oij\")\n",
    "sqlContext.registerDataFrameAsTable(inec_csv, \"inec\")"
   ]
  },
  {
   "cell_type": "code",
   "execution_count": 11,
   "metadata": {},
   "outputs": [],
   "source": [
    "'''\n",
    "Entradas: Un entero\n",
    "Salidas: Un dataframe\n",
    "Descripción general: Se encarga de validar cual conjunto de datos se debe enviar \n",
    "y realiza la consulta SQL correspondiente la cual removerá espacios en blanco\n",
    "'''\n",
    "def quitaEspacios(ind):\n",
    "    #Este if es de validación para enviar datos de INEC o del OIJ\n",
    "    #por medio de sqlContext se utiliza la función TRIM que acorta todos los espacios en blanco\n",
    "    #almacenados antes o después de nuestros datos\n",
    "    if ind == 1:\n",
    "        return sqlContext.sql(\"SELECT Delito, SubDelito,Hora, Fecha, Victima, SubVictima, Edad, Genero, Nacionalidad, Provincia,Canton, TRIM(Distrito) as Distrito from oij\")\n",
    "    else:\n",
    "        return sqlContext.sql(\"SELECT TRIM(ProvinciaCantonDistrito) AS ProvinciaCantonDistrito, PoblacionMayor15, TasaNetaParticipacion, TasaOcupacion, TasaDesempleoAbierto, PorcentajeEconomicamenteInactivo, RelacionDependenciaEconomica from inec\")"
   ]
  },
  {
   "cell_type": "code",
   "execution_count": 12,
   "metadata": {},
   "outputs": [],
   "source": [
    "#Simplemente se llama a la función con el número entero correspondiente y se registra el nuevo dataframe\n",
    "#como la tabla almacenada anteriormente en el sistema, esto se aplica para ambos conjuntos de datos\n",
    "oij = quitaEspacios(1)\n",
    "sqlContext.registerDataFrameAsTable(oij, \"oij\")\n",
    "inec = quitaEspacios(2)\n",
    "sqlContext.registerDataFrameAsTable(inec, \"inec\")"
   ]
  },
  {
   "cell_type": "code",
   "execution_count": 13,
   "metadata": {},
   "outputs": [],
   "source": [
    "'''\n",
    "Entradas: Un entero\n",
    "Salidas: Un dataframe\n",
    "Descripción general: Se encarga de validar cual conjunto de datos se debe enviar \n",
    "y realiza la consulta SQL correspondiente la cual pasará los datos a minúscula\n",
    "'''\n",
    "def minusculas(ind):\n",
    "    #Este if es de validación para enviar datos de INEC o del OIJ\n",
    "    #por medio de sqlContext se utiliza la función LOWER que se encarga de pasar los datos a minúscula\n",
    "    if ind == 1:\n",
    "        return sqlContext.sql(\"SELECT Delito, SubDelito,Hora, Fecha, Victima, SubVictima, Edad, Genero, Nacionalidad, Provincia,Canton, LOWER(Distrito) as Distrito from oij\")\n",
    "    else:\n",
    "        return sqlContext.sql(\"SELECT LOWER(ProvinciaCantonDistrito) AS ProvinciaCantonDistrito, PoblacionMayor15, TasaNetaParticipacion, TasaOcupacion, TasaDesempleoAbierto, PorcentajeEconomicamenteInactivo, RelacionDependenciaEconomica from inec\")"
   ]
  },
  {
   "cell_type": "code",
   "execution_count": 14,
   "metadata": {},
   "outputs": [],
   "source": [
    "#Se llama a la función con el número entero correspondiente y se registra el nuevo dataframe\n",
    "#como la tabla almacenada anteriormente en el sistema, se aplica a ambos conjuntos de datos\n",
    "oij = minusculas(1)\n",
    "sqlContext.registerDataFrameAsTable(oij, \"oij\")\n",
    "inec = minusculas(2)\n",
    "sqlContext.registerDataFrameAsTable(inec, \"inec\")"
   ]
  },
  {
   "cell_type": "code",
   "execution_count": 15,
   "metadata": {},
   "outputs": [],
   "source": [
    "'''\n",
    "Entradas: No posee\n",
    "Salidas: Un dataframe\n",
    "Descripción general: Se encarga de hacer la consulta sql para mostrar los datos del OIJ\n",
    "que no coinciden con ningún dato del INEC\n",
    "'''\n",
    "def sacaNoExistentes():\n",
    "    #Esta consulta se encarga de sacar los distintos por medio del uso de DISTINCT que no se encuentren\n",
    "    #en la consulta realizada a los datos del INEC\n",
    "    return sqlContext.sql(\"SELECT DISTINCT(Distrito) FROM oij WHERE NOT EXISTS(SELECT 1 FROM inec WHERE inec.ProvinciaCantonDistrito = oij.Distrito)\") "
   ]
  },
  {
   "cell_type": "code",
   "execution_count": 16,
   "metadata": {},
   "outputs": [],
   "source": [
    "#Llama a la función y lo almacena como un dataframe nuevo y una tabla nueva\n",
    "noCoinciden = sacaNoExistentes()\n",
    "sqlContext.registerDataFrameAsTable(noCoinciden, \"noCoincidencias\")"
   ]
  },
  {
   "cell_type": "code",
   "execution_count": 17,
   "metadata": {},
   "outputs": [
    {
     "name": "stdout",
     "output_type": "stream",
     "text": [
      "+-------------+\n",
      "|     Distrito|\n",
      "+-------------+\n",
      "|       pococi|\n",
      "|      guacimo|\n",
      "|     la union|\n",
      "|         null|\n",
      "|  leon cortes|\n",
      "|     san jose|\n",
      "|    san ramon|\n",
      "|        canas|\n",
      "|        limon|\n",
      "|perez zeledon|\n",
      "|        tibas|\n",
      "|    sarapiqui|\n",
      "+-------------+\n",
      "\n"
     ]
    }
   ],
   "source": [
    "#Se muestran los datos que no coincidieron, principalmente fue porque el OIJ utiliza abreviaciones y no usa tildes,\n",
    "#el INEC no\n",
    "noCoinciden.show()"
   ]
  },
  {
   "cell_type": "code",
   "execution_count": 18,
   "metadata": {},
   "outputs": [],
   "source": [
    "'''\n",
    "Entradas: No posee\n",
    "Salidas: Un dataframe\n",
    "Descripción general: Se encarga de contar los elementos de la tabla de noCoincidencias\n",
    "estos elementos corresponen a todos aquellos distritos del OIJ que no corresponden a distritos del INEC\n",
    "'''\n",
    "def cuentaNoExistentes():\n",
    "    return sqlContext.sql(\"SELECT COUNT(*) as num FROM noCoincidencias\") "
   ]
  },
  {
   "cell_type": "code",
   "execution_count": 19,
   "metadata": {},
   "outputs": [],
   "source": [
    "#Almacena el dataframe con el dato\n",
    "numNoCoinciden = cuentaNoExistentes()"
   ]
  },
  {
   "cell_type": "code",
   "execution_count": 20,
   "metadata": {},
   "outputs": [
    {
     "name": "stdout",
     "output_type": "stream",
     "text": [
      "+---+\n",
      "|num|\n",
      "+---+\n",
      "| 12|\n",
      "+---+\n",
      "\n",
      "Cantidad de registros que no coincidieron:  12\n"
     ]
    }
   ],
   "source": [
    "#Se despliega el número correspondiente\n",
    "numNoCoinciden.show()\n",
    "print(\"Cantidad de registros que no coincidieron: \", noCoinciden.count())"
   ]
  },
  {
   "cell_type": "code",
   "execution_count": 21,
   "metadata": {},
   "outputs": [],
   "source": [
    "#Se modifican datos del dataframe del INEC para que correspondan a algunos datos del OIJ\n",
    "#esto se encarga de buscar por columna los datos que tengan almaceanado los nombres de la manera indicada\n",
    "#luego se modifican por sus correpondientes en el dataframe del OIJ\n",
    "inec = inec.withColumn(\"ProvinciaCantonDistrito\", F.when(F.col(\"ProvinciaCantonDistrito\")=='pococí','pococi').otherwise(F.col(\"ProvinciaCantonDistrito\")))\n",
    "inec = inec.withColumn(\"ProvinciaCantonDistrito\", F.when(F.col(\"ProvinciaCantonDistrito\")=='la unión','la union').otherwise(F.col(\"ProvinciaCantonDistrito\")))\n",
    "inec = inec.withColumn(\"ProvinciaCantonDistrito\", F.when(F.col(\"ProvinciaCantonDistrito\")=='belén','belen').otherwise(F.col(\"ProvinciaCantonDistrito\")))\n",
    "inec = inec.withColumn(\"ProvinciaCantonDistrito\", F.when(F.col(\"ProvinciaCantonDistrito\")=='león cortés castro','leon cortes').otherwise(F.col(\"ProvinciaCantonDistrito\")))\n",
    "inec = inec.withColumn(\"ProvinciaCantonDistrito\", F.when(F.col(\"ProvinciaCantonDistrito\")=='san josé','san jose').otherwise(F.col(\"ProvinciaCantonDistrito\")))\n",
    "#se guarda el dataframe modificado como una tabla\n",
    "sqlContext.registerDataFrameAsTable(inec, \"inec\")"
   ]
  },
  {
   "cell_type": "code",
   "execution_count": 22,
   "metadata": {},
   "outputs": [],
   "source": [
    "#Se integran por medio de un inner join los conjuntos de datos,y se almacenan como un nuevo dataframe\n",
    "#este dataframe será enviado a postgres\n",
    "datosIntegrados = sqlContext.sql(\"SELECT a.Delito, a.SubDelito, a.Hora, a.Fecha, a.Victima, a.SubVictima, a.Edad, a.Genero, a.Nacionalidad, a.Provincia, a.Canton, a.Distrito, b.PoblacionMayor15, b.TasaNetaParticipacion, b.TasaOcupacion, b.TasaDesempleoAbierto, b.PorcentajeEconomicamenteInactivo, b.RelacionDependenciaEconomica FROM oij a INNER JOIN inec b ON a.Distrito = b.ProvinciaCantonDistrito\")"
   ]
  },
  {
   "cell_type": "code",
   "execution_count": 23,
   "metadata": {},
   "outputs": [
    {
     "name": "stdout",
     "output_type": "stream",
     "text": [
      "root\n",
      " |-- Delito: string (nullable = true)\n",
      " |-- SubDelito: string (nullable = true)\n",
      " |-- Hora: string (nullable = true)\n",
      " |-- Fecha: string (nullable = true)\n",
      " |-- Victima: string (nullable = true)\n",
      " |-- SubVictima: string (nullable = true)\n",
      " |-- Edad: string (nullable = true)\n",
      " |-- Genero: string (nullable = true)\n",
      " |-- Nacionalidad: string (nullable = true)\n",
      " |-- Provincia: string (nullable = true)\n",
      " |-- Canton: string (nullable = true)\n",
      " |-- Distrito: string (nullable = true)\n",
      " |-- PoblacionMayor15: integer (nullable = true)\n",
      " |-- TasaNetaParticipacion: double (nullable = true)\n",
      " |-- TasaOcupacion: double (nullable = true)\n",
      " |-- TasaDesempleoAbierto: string (nullable = true)\n",
      " |-- PorcentajeEconomicamenteInactivo: double (nullable = true)\n",
      " |-- RelacionDependenciaEconomica: double (nullable = true)\n",
      "\n"
     ]
    }
   ],
   "source": [
    "datosIntegrados.printSchema()"
   ]
  },
  {
   "cell_type": "code",
   "execution_count": 24,
   "metadata": {},
   "outputs": [],
   "source": [
    "datosIntegrados=datosIntegrados.withColumn('TasaDesempleoAbierto',datosIntegrados['TasaDesempleoAbierto'].cast(\"float\").alias('TasaDesempleoAbierto'))\n",
    "datosIntegrados=datosIntegrados.withColumn('TasaNetaParticipacion',datosIntegrados['TasaNetaParticipacion'].cast(\"float\").alias('TasaNetaParticipacion'))\n",
    "datosIntegrados=datosIntegrados.withColumn('TasaOcupacion',datosIntegrados['TasaOcupacion'].cast(\"float\").alias('TasaOcupacion'))\n",
    "datosIntegrados=datosIntegrados.withColumn('PorcentajeEconomicamenteInactivo',datosIntegrados['PorcentajeEconomicamenteInactivo'].cast(\"float\").alias('PorcentajeEconomicamenteInactivo'))\n",
    "datosIntegrados=datosIntegrados.withColumn('RelacionDependenciaEconomica',datosIntegrados['RelacionDependenciaEconomica'].cast(\"float\").alias('RelacionDependenciaEconomica'))\n",
    "datosIntegrados=datosIntegrados.withColumn('Fecha',to_date(unix_timestamp(col('Fecha'), 'yyyy-MM-dd').cast(\"timestamp\")))"
   ]
  },
  {
   "cell_type": "code",
   "execution_count": 25,
   "metadata": {},
   "outputs": [
    {
     "name": "stdout",
     "output_type": "stream",
     "text": [
      "root\n",
      " |-- Delito: string (nullable = true)\n",
      " |-- SubDelito: string (nullable = true)\n",
      " |-- Hora: string (nullable = true)\n",
      " |-- Fecha: date (nullable = true)\n",
      " |-- Victima: string (nullable = true)\n",
      " |-- SubVictima: string (nullable = true)\n",
      " |-- Edad: string (nullable = true)\n",
      " |-- Genero: string (nullable = true)\n",
      " |-- Nacionalidad: string (nullable = true)\n",
      " |-- Provincia: string (nullable = true)\n",
      " |-- Canton: string (nullable = true)\n",
      " |-- Distrito: string (nullable = true)\n",
      " |-- PoblacionMayor15: integer (nullable = true)\n",
      " |-- TasaNetaParticipacion: float (nullable = true)\n",
      " |-- TasaOcupacion: float (nullable = true)\n",
      " |-- TasaDesempleoAbierto: float (nullable = true)\n",
      " |-- PorcentajeEconomicamenteInactivo: float (nullable = true)\n",
      " |-- RelacionDependenciaEconomica: float (nullable = true)\n",
      "\n"
     ]
    }
   ],
   "source": [
    "datosIntegrados.printSchema()"
   ]
  },
  {
   "cell_type": "code",
   "execution_count": 26,
   "metadata": {
    "scrolled": true
   },
   "outputs": [
    {
     "name": "stdout",
     "output_type": "stream",
     "text": [
      "+------+-------------+-------------------+----------+-----------+----------+--------------------+-------------+------------+----------+----------+-------------+----------------+---------------------+-------------+--------------------+--------------------------------+----------------------------+\n",
      "|Delito|    SubDelito|               Hora|     Fecha|    Victima|SubVictima|                Edad|       Genero|Nacionalidad| Provincia|    Canton|     Distrito|PoblacionMayor15|TasaNetaParticipacion|TasaOcupacion|TasaDesempleoAbierto|PorcentajeEconomicamenteInactivo|RelacionDependenciaEconomica|\n",
      "+------+-------------+-------------------+----------+-----------+----------+--------------------+-------------+------------+----------+----------+-------------+----------------+---------------------+-------------+--------------------+--------------------------------+----------------------------+\n",
      "|ASALTO|  ARMA BLANCA|18:00:00 - 20:59:59|2011-09-19|EDIFICACION|      CAFÉ| INTERNET [EDIFIC...|Mayor de edad|      HOMBRE|COSTA RICA|  ALAJUELA|     alajuela|           34485|                 55.1|         53.4|                 3.1|                            44.9|                         1.3|\n",
      "|ASALTO|  ARMA BLANCA|18:00:00 - 20:59:59|2011-09-19|EDIFICACION|      CAFÉ| INTERNET [EDIFIC...|Mayor de edad|      HOMBRE|COSTA RICA|  ALAJUELA|     alajuela|          195003|                 55.8|         53.9|                 3.5|                            44.2|                         1.3|\n",
      "|ASALTO|  ARMA BLANCA|18:00:00 - 20:59:59|2011-09-19|EDIFICACION|      CAFÉ| INTERNET [EDIFIC...|Mayor de edad|      HOMBRE|COSTA RICA|  ALAJUELA|     alajuela|          632572|                 52.9|         51.3|                 3.0|                            47.1|                         1.5|\n",
      "|ASALTO|ARMA DE FUEGO|18:00:00 - 20:59:59|2011-03-17|EDIFICACION|      CAFÉ| INTERNET [EDIFIC...|Mayor de edad|      HOMBRE|COSTA RICA|   CARTAGO|     oreamuno|           34110|                 53.9|         52.4|                 2.8|                            46.1|                         1.5|\n",
      "|ASALTO|ARMA DE FUEGO|21:00:00 - 23:59:59|2011-06-30|EDIFICACION|      CAFÉ| INTERNET [EDIFIC...|Mayor de edad|      HOMBRE| NICARAGUA|  SAN JOSE| desamparados|           19768|                 57.1|         55.0|                 3.7|                            42.9|                         1.3|\n",
      "|ASALTO|ARMA DE FUEGO|21:00:00 - 23:59:59|2011-06-30|EDIFICACION|      CAFÉ| INTERNET [EDIFIC...|Mayor de edad|      HOMBRE| NICARAGUA|  SAN JOSE| desamparados|           26951|                 59.3|         56.4|                 4.8|                            40.7|                         1.1|\n",
      "|ASALTO|ARMA DE FUEGO|21:00:00 - 23:59:59|2011-06-30|EDIFICACION|      CAFÉ| INTERNET [EDIFIC...|Mayor de edad|      HOMBRE| NICARAGUA|  SAN JOSE| desamparados|          159292|                 57.0|         54.7|                 4.0|                            43.0|                         1.3|\n",
      "|ASALTO|ARMA DE FUEGO|12:00:00 - 14:59:59|2011-08-10|EDIFICACION|      CAFÉ| INTERNET [EDIFIC...|Mayor de edad|      HOMBRE|COSTA RICA|  SAN JOSE|montes de oca|           41561|                 58.8|         57.1|                 2.9|                            41.2|                         1.0|\n",
      "|ASALTO|ARMA DE FUEGO|12:00:00 - 14:59:59|2011-06-28|EDIFICACION|      CAFÉ| INTERNET [EDIFIC...|Mayor de edad|      HOMBRE|COSTA RICA|   CARTAGO|     la union|             968|                 41.8|         41.2|                 1.5|                            58.2|                         2.1|\n",
      "|ASALTO|ARMA DE FUEGO|12:00:00 - 14:59:59|2011-06-28|EDIFICACION|      CAFÉ| INTERNET [EDIFIC...|Mayor de edad|      HOMBRE|COSTA RICA|   CARTAGO|     la union|           75029|                 59.3|         57.3|                 3.4|                            40.7|                         1.2|\n",
      "|ASALTO|ARMA DE FUEGO|18:00:00 - 20:59:59|2011-07-30|EDIFICACION|      CAFÉ| INTERNET [EDIFIC...|Mayor de edad|      HOMBRE|COSTA RICA|PUNTARENAS|   puntarenas|            6801|                 53.3|         51.4|                 3.4|                            46.7|                         1.3|\n",
      "|ASALTO|ARMA DE FUEGO|18:00:00 - 20:59:59|2011-07-30|EDIFICACION|      CAFÉ| INTERNET [EDIFIC...|Mayor de edad|      HOMBRE|COSTA RICA|PUNTARENAS|   puntarenas|           84210|                 48.2|         46.4|                 3.7|                            51.8|                         1.8|\n",
      "|ASALTO|ARMA DE FUEGO|18:00:00 - 20:59:59|2011-07-30|EDIFICACION|      CAFÉ| INTERNET [EDIFIC...|Mayor de edad|      HOMBRE|COSTA RICA|PUNTARENAS|   puntarenas|          295918|                 48.9|         47.3|                 3.3|                            51.1|                         1.8|\n",
      "|ASALTO|ARMA DE FUEGO|15:00:00 - 17:59:59|2011-01-12|EDIFICACION|      CAFÉ| INTERNET [EDIFIC...|Mayor de edad|      HOMBRE|COSTA RICA|  SAN JOSE|   goicoechea|           90537|                 56.8|         54.7|                 3.7|                            43.2|                         1.2|\n",
      "|ASALTO|ARMA DE FUEGO|21:00:00 - 23:59:59|2011-11-02|EDIFICACION|      CAFÉ| INTERNET [EDIFIC...|Mayor de edad|      HOMBRE| NICARAGUA|   HEREDIA|      heredia|           16071|                 53.5|         51.9|                 3.0|                            46.5|                         1.2|\n",
      "|ASALTO|ARMA DE FUEGO|21:00:00 - 23:59:59|2011-11-02|EDIFICACION|      CAFÉ| INTERNET [EDIFIC...|Mayor de edad|      HOMBRE| NICARAGUA|   HEREDIA|      heredia|           96888|                 58.9|         57.0|                 3.2|                            41.1|                         1.2|\n",
      "|ASALTO|ARMA DE FUEGO|21:00:00 - 23:59:59|2011-11-02|EDIFICACION|      CAFÉ| INTERNET [EDIFIC...|Mayor de edad|      HOMBRE| NICARAGUA|   HEREDIA|      heredia|          334474|                 57.3|         55.6|                 2.9|                            42.7|                         1.3|\n",
      "|ASALTO|ARMA DE FUEGO|18:00:00 - 20:59:59|2011-10-10|EDIFICACION|      CAFÉ| INTERNET [EDIFIC...|Mayor de edad|       MUJER| NICARAGUA|PUNTARENAS|       quepos|           14677|                 56.4|         54.0|                 4.3|                            43.6|                         1.4|\n",
      "|ASALTO|ARMA DE FUEGO|15:00:00 - 17:59:59|2011-07-22|EDIFICACION|      CAFÉ| INTERNET [EDIFIC...|Mayor de edad|       MUJER|COSTA RICA|  SAN JOSE| desamparados|           19768|                 57.1|         55.0|                 3.7|                            42.9|                         1.3|\n",
      "|ASALTO|ARMA DE FUEGO|15:00:00 - 17:59:59|2011-07-22|EDIFICACION|      CAFÉ| INTERNET [EDIFIC...|Mayor de edad|       MUJER|COSTA RICA|  SAN JOSE| desamparados|           26951|                 59.3|         56.4|                 4.8|                            40.7|                         1.1|\n",
      "+------+-------------+-------------------+----------+-----------+----------+--------------------+-------------+------------+----------+----------+-------------+----------------+---------------------+-------------+--------------------+--------------------------------+----------------------------+\n",
      "only showing top 20 rows\n",
      "\n"
     ]
    }
   ],
   "source": [
    "datosIntegrados.show()"
   ]
  },
  {
   "cell_type": "code",
   "execution_count": 27,
   "metadata": {},
   "outputs": [],
   "source": [
    "spark = SparkSession \\\n",
    "    .builder \\\n",
    "    .appName(\"Basic JDBC pipeline\") \\\n",
    "    .config(\"spark.driver.extraClassPath\", \"postgresql-42.1.4.jar\") \\\n",
    "    .config(\"spark.executor.extraClassPath\", \"postgresql-42.1.4.jar\") \\\n",
    "    .getOrCreate()"
   ]
  },
  {
   "cell_type": "code",
   "execution_count": 230,
   "metadata": {},
   "outputs": [],
   "source": [
    "def mandaPostgres(dataframe, nombre):\n",
    "    dataframe \\\n",
    "        .write \\\n",
    "        .format(\"jdbc\") \\\n",
    "        .mode('overwrite') \\\n",
    "        .option(\"url\", \"jdbc:postgresql://localhost/\") \\\n",
    "        .option(\"user\", \"postgres\") \\\n",
    "        .option(\"password\", \"password\") \\\n",
    "        .option(\"dbtable\", nombre) \\\n",
    "        .save()"
   ]
  },
  {
   "cell_type": "code",
   "execution_count": 239,
   "metadata": {},
   "outputs": [],
   "source": [
    "import matplotlib\n",
    "import matplotlib.pyplot as plt\n",
    "import numpy as np\n",
    "import pandas"
   ]
  },
  {
   "cell_type": "code",
   "execution_count": 240,
   "metadata": {},
   "outputs": [],
   "source": [
    "mandaPostgres(datosIntegrados.select(\"Delito\",\"SubDelito\",\"Hora\",\"Fecha\",\"Victima\",\"SubVictima\",\"Edad\",\"Genero\",\"Nacionalidad\",\"Provincia\",\"Canton\",\"Distrito\",\"PoblacionMayor15\",\"TasaNetaParticipacion\",\"TasaOcupacion\",\"TasaDesempleoAbierto\",\"PorcentajeEconomicamenteInactivo\",\"RelacionDependenciaEconomica\"),\"prueba\")\n"
   ]
  },
  {
   "cell_type": "code",
   "execution_count": 248,
   "metadata": {},
   "outputs": [],
   "source": [
    "sqlContext.registerDataFrameAsTable(datosIntegrados,\"datosIntegrados\")\n",
    "def top10Distritos():\n",
    "    return sqlContext.sql(\"SELECT DISTINCT distrito, COUNT(delito) as Cantidad_Delitos, SUM(tasaocupacion)/COUNT(delito) as Tasa_Ocupacion FROM datosIntegrados group by distrito order by 2 DESC LIMIT 10\") "
   ]
  },
  {
   "cell_type": "code",
   "execution_count": 249,
   "metadata": {},
   "outputs": [],
   "source": [
    "top10Distritos=top10Distritos()"
   ]
  },
  {
   "cell_type": "code",
   "execution_count": 250,
   "metadata": {},
   "outputs": [
    {
     "name": "stdout",
     "output_type": "stream",
     "text": [
      "+------------+----------------+------------------+\n",
      "|    distrito|Cantidad_Delitos|    Tasa_Ocupacion|\n",
      "+------------+----------------+------------------+\n",
      "|desamparados|               9| 55.36666742960612|\n",
      "|    san jose|               7| 53.10000010899135|\n",
      "|   san pablo|               6| 49.29999923706055|\n",
      "|    alajuela|               6| 52.86666742960612|\n",
      "|     heredia|               6|54.833333333333336|\n",
      "|  san carlos|               4| 50.70000076293945|\n",
      "|  puntarenas|               3| 48.36666742960612|\n",
      "|    la union|               2|             49.25|\n",
      "|      quepos|               2|              54.0|\n",
      "|      grecia|               2|              53.0|\n",
      "+------------+----------------+------------------+\n",
      "\n"
     ]
    }
   ],
   "source": [
    "top10Distritos.show()"
   ]
  },
  {
   "cell_type": "code",
   "execution_count": 285,
   "metadata": {},
   "outputs": [
    {
     "data": {
      "image/png": "[encoded data removed]",
      "text/plain": [
       "<Figure size 432x288 with 1 Axes>"
      ]
     },
     "metadata": {
      "needs_background": "light"
     },
     "output_type": "display_data"
    },
    {
     "data": {
      "image/png": "[encoded data removed]",
      "text/plain": [
       "<Figure size 432x288 with 1 Axes>"
      ]
     },
     "metadata": {
      "needs_background": "light"
     },
     "output_type": "display_data"
    }
   ],
   "source": [
    "y= top10Distritos.toPandas() [\"distrito\"].values.tolist()\n",
    "x= top10Distritos.toPandas() [\"Cantidad_Delitos\"].values.tolist()\n",
    "z= top10Distritos.toPandas() [\"Tasa_Ocupacion\"].values.tolist()\n",
    "#Obtenemos una lista con las posiciones\n",
    "y_pos = np.arange(len(y))\n",
    "#Creamos la grafica pasando los valores en el eje X, Y\n",
    "plt.barh(y_pos[::-1], x, align='center', alpha=1)\n",
    "#Añadimos la etiqueta de nombre de cada distrito\n",
    "plt.yticks(y_pos, y[::-1])\n",
    "#añadimos una etiqueta en el eje X\n",
    "plt.xlabel('Cantidad Delitos')\n",
    "#Y una etiqueta superior\n",
    "plt.title('Top 10 distritos con más Cantidad de Delitos')\n",
    "plt.show()\n",
    "\n",
    "#Obtenemos una lista con las posiciones\n",
    "y_pos = np.arange(len(y))\n",
    "#Creamos la grafica pasando los valores en el eje X, Y\n",
    "plt.barh(y_pos[::-1], z, align='center', alpha=1)\n",
    "#Añadimos la etiqueta de nombre de cada distrito\n",
    "plt.yticks(y_pos, y[::-1])\n",
    "#añadimos una etiqueta en el eje X\n",
    "plt.xlabel('Tasa de Ocupación')\n",
    "#Y una etiqueta superior\n",
    "plt.title('Top 10 distritos con más Cantidad de Delitos y con su Tasa de Ocupación')\n",
    "plt.show()\n"
   ]
  },
  {
   "cell_type": "code",
   "execution_count": 179,
   "metadata": {},
   "outputs": [],
   "source": [
    "def delitosDia():\n",
    "    return sqlContext.sql(\"SELECT distrito,COUNT(delito) as Cantidad_Delitos,fecha, date_format(fecha, 'EEEE') as Dia_Semana FROM datosIntegrados WHERE distrito='desamparados' group by distrito, fecha \") "
   ]
  },
  {
   "cell_type": "code",
   "execution_count": 180,
   "metadata": {},
   "outputs": [],
   "source": [
    "delitosDia=delitosDia()"
   ]
  },
  {
   "cell_type": "code",
   "execution_count": 181,
   "metadata": {},
   "outputs": [
    {
     "name": "stdout",
     "output_type": "stream",
     "text": [
      "+------------+----------------+----------+----------+\n",
      "|    distrito|Cantidad_Delitos|     fecha|Dia_Semana|\n",
      "+------------+----------------+----------+----------+\n",
      "|desamparados|               3|2011-06-30|  Thursday|\n",
      "|desamparados|               3|2011-07-22|    Friday|\n",
      "|desamparados|               3|2011-03-26|  Saturday|\n",
      "+------------+----------------+----------+----------+\n",
      "\n"
     ]
    }
   ],
   "source": [
    "delitosDia.show()"
   ]
  },
  {
   "cell_type": "code",
   "execution_count": 287,
   "metadata": {},
   "outputs": [
    {
     "data": {
      "image/png": "[encoded data removed]",
      "text/plain": [
       "<Figure size 432x288 with 1 Axes>"
      ]
     },
     "metadata": {
      "needs_background": "light"
     },
     "output_type": "display_data"
    }
   ],
   "source": [
    "x=delitosDia.toPandas() [\"Dia_Semana\"].values.tolist()\n",
    "\n",
    "y= delitosDia.toPandas() [\"Cantidad_Delitos\"].values.tolist()\n",
    " \n",
    "fig, ax = plt.subplots()\n",
    "#Colocamos una etiqueta en el eje Y\n",
    "ax.set_ylabel('Cantidad Delitos')\n",
    "#Colocamos una etiqueta en el eje X\n",
    "ax.set_title('Cantidad de delitos por día de la semana para el distrito con más delitos')\n",
    "#Creamos la grafica de barras utilizando x,y\n",
    "plt.bar(x, y)\n",
    "#Finalmente mostramos la grafica con el metodo show()\n",
    "plt.show()"
   ]
  },
  {
   "cell_type": "code",
   "execution_count": 184,
   "metadata": {},
   "outputs": [],
   "source": [
    "def delitosTipo():\n",
    "    return sqlContext.sql(\"SELECT distrito,COUNT(delito) as Cantidad_Delitos, delito as Tipo_Delito FROM datosIntegrados WHERE distrito='desamparados' group by distrito,delito \") "
   ]
  },
  {
   "cell_type": "code",
   "execution_count": 185,
   "metadata": {},
   "outputs": [],
   "source": [
    "delitosTipo=delitosTipo()"
   ]
  },
  {
   "cell_type": "code",
   "execution_count": 186,
   "metadata": {},
   "outputs": [
    {
     "name": "stdout",
     "output_type": "stream",
     "text": [
      "+------------+----------------+-----------+\n",
      "|    distrito|Cantidad_Delitos|Tipo_Delito|\n",
      "+------------+----------------+-----------+\n",
      "|desamparados|               6|     ASALTO|\n",
      "|desamparados|               3|       ROBO|\n",
      "+------------+----------------+-----------+\n",
      "\n"
     ]
    }
   ],
   "source": [
    "delitosTipo.show()"
   ]
  },
  {
   "cell_type": "code",
   "execution_count": 289,
   "metadata": {},
   "outputs": [
    {
     "data": {
      "image/png": "[encoded data removed]",
      "text/plain": [
       "<Figure size 432x288 with 1 Axes>"
      ]
     },
     "metadata": {
      "needs_background": "light"
     },
     "output_type": "display_data"
    }
   ],
   "source": [
    "x=delitosTipo.toPandas() [\"Tipo_Delito\"].values.tolist()\n",
    "\n",
    "y= delitosTipo.toPandas() [\"Cantidad_Delitos\"].values.tolist()\n",
    " \n",
    "fig, ax = plt.subplots()\n",
    "#Colocamos una etiqueta en el eje Y\n",
    "ax.set_ylabel('Cantidad Delitos')\n",
    "#Colocamos una etiqueta en el eje X\n",
    "ax.set_title('Cantidad de delitos por tipo para el distrito con más delitos')\n",
    "#Creamos la grafica de barras utilizando x,y\n",
    "plt.bar(x, y)\n",
    "#Finalmente mostramos la grafica con el metodo show()\n",
    "plt.show()"
   ]
  },
  {
   "cell_type": "code",
   "execution_count": 220,
   "metadata": {},
   "outputs": [],
   "source": [
    "def delitosSexo():\n",
    "    return sqlContext.sql(\"SELECT nacionalidad, COUNT(delito) as Cantidad_Delitos FROM datosIntegrados group by nacionalidad\") "
   ]
  },
  {
   "cell_type": "code",
   "execution_count": 221,
   "metadata": {},
   "outputs": [],
   "source": [
    "delitosSexo=delitosSexo()"
   ]
  },
  {
   "cell_type": "code",
   "execution_count": 222,
   "metadata": {},
   "outputs": [
    {
     "name": "stdout",
     "output_type": "stream",
     "text": [
      "+------------+----------------+\n",
      "|nacionalidad|Cantidad_Delitos|\n",
      "+------------+----------------+\n",
      "|       MUJER|               9|\n",
      "|      HOMBRE|              54|\n",
      "+------------+----------------+\n",
      "\n"
     ]
    }
   ],
   "source": [
    "delitosSexo.show()"
   ]
  },
  {
   "cell_type": "code",
   "execution_count": 291,
   "metadata": {},
   "outputs": [
    {
     "data": {
      "image/png": "[encoded data removed]",
      "text/plain": [
       "<Figure size 432x288 with 1 Axes>"
      ]
     },
     "metadata": {
      "needs_background": "light"
     },
     "output_type": "display_data"
    }
   ],
   "source": [
    "x=delitosSexo.toPandas() [\"nacionalidad\"].values.tolist()\n",
    "\n",
    "y= delitosSexo.toPandas() [\"Cantidad_Delitos\"].values.tolist()\n",
    " \n",
    "fig, ax = plt.subplots()\n",
    "#Colocamos una etiqueta en el eje Y\n",
    "ax.set_ylabel('Cantidad Delitos')\n",
    "#Colocamos una etiqueta en el eje X\n",
    "ax.set_title('Cantidad de delitos por sexo')\n",
    "#Creamos la grafica de barras utilizando x,y\n",
    "plt.bar(x, y)\n",
    "#Finalmente mostramos la grafica con el metodo show()\n",
    "plt.show()"
   ]
  },
  {
   "cell_type": "code",
   "execution_count": 227,
   "metadata": {},
   "outputs": [],
   "source": [
    "def subdelitosCant():\n",
    "    return sqlContext.sql(\"SELECT Subdelito, COUNT(delito) as Cantidad_Delitos FROM datosIntegrados group by Subdelito\") "
   ]
  },
  {
   "cell_type": "code",
   "execution_count": 228,
   "metadata": {},
   "outputs": [],
   "source": [
    "subdelitosCant=subdelitosCant()"
   ]
  },
  {
   "cell_type": "code",
   "execution_count": 229,
   "metadata": {},
   "outputs": [
    {
     "name": "stdout",
     "output_type": "stream",
     "text": [
      "+--------------------+----------------+\n",
      "|           Subdelito|Cantidad_Delitos|\n",
      "+--------------------+----------------+\n",
      "|         ARMA BLANCA|               4|\n",
      "|ARDID PREVIO/DIST...|               1|\n",
      "|       ARMA DE FUEGO|              28|\n",
      "|        POR DESCUIDO|               6|\n",
      "|             BOQUETE|               2|\n",
      "|       POR CONFIANZA|               2|\n",
      "|     QUITAN CELOSIAS|               7|\n",
      "|           FORZADURA|              13|\n",
      "+--------------------+----------------+\n",
      "\n"
     ]
    }
   ],
   "source": [
    "subdelitosCant.show()"
   ]
  },
  {
   "cell_type": "code",
   "execution_count": 294,
   "metadata": {},
   "outputs": [
    {
     "data": {
      "image/png": "[encoded data removed]",
      "text/plain": [
       "<Figure size 432x288 with 1 Axes>"
      ]
     },
     "metadata": {
      "needs_background": "light"
     },
     "output_type": "display_data"
    }
   ],
   "source": [
    "y=subdelitosCant.toPandas() [\"Subdelito\"].values.tolist()\n",
    "\n",
    "x= subdelitosCant.toPandas() [\"Cantidad_Delitos\"].values.tolist()\n",
    "\n",
    "#Obtenemos una lista con las posiciones\n",
    "y_pos = np.arange(len(y))\n",
    "#Creamos la grafica pasando los valores en el eje X, Y\n",
    "plt.barh(y_pos[::-1], x, align='center', alpha=1)\n",
    "#Añadimos la etiqueta de nombre de cada distrito\n",
    "plt.yticks(y_pos, y[::-1])\n",
    "#añadimos una etiqueta en el eje X\n",
    "plt.xlabel('Cantidad Delitos')\n",
    "#Y una etiqueta superior\n",
    "plt.title('Tipo de Subdelitos con su respectiva cantidad')\n",
    "plt.show()"
   ]
  },
  {
   "cell_type": "code",
   "execution_count": null,
   "metadata": {},
   "outputs": [],
   "source": []
  }
 ],
 "metadata": {
  "kernelspec": {
   "display_name": "Python 3",
   "language": "python",
   "name": "python3"
  }
 },
 "nbformat": 4,
 "nbformat_minor": 4
}
