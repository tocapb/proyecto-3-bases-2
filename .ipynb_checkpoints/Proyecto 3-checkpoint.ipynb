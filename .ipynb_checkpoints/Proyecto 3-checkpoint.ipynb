{
 "cells": [
  {
   "cell_type": "code",
   "execution_count": 4,
   "metadata": {},
   "outputs": [],
   "source": [
    "from pyspark.sql import SparkSession\n",
    "from pyspark.files import SparkFiles"
   ]
  },
  {
   "cell_type": "code",
   "execution_count": 13,
   "metadata": {},
   "outputs": [],
   "source": [
    "emp_csv=spark.read.format(\"csv\").option(\"header\",\"true\").option(\"inferSchema\",\"true\").load(\"Estadisticas.xls\")"
   ]
  },
  {
   "cell_type": "code",
   "execution_count": 14,
   "metadata": {},
   "outputs": [
    {
     "name": "stdout",
     "output_type": "stream",
     "text": [
      "+--------------------+\n",
      "|               <div>|\n",
      "+--------------------+\n",
      "|\t<table cellspaci...|\n",
      "|              \t\t<tr>|\n",
      "|\t\t\t<th scope=\"col...|\n",
      "|         \t\t</tr><tr>|\n",
      "|\t\t\t<td>ASALTO</td...|\n",
      "|         \t\t</tr><tr>|\n",
      "|\t\t\t<td>ASALTO</td...|\n",
      "|         \t\t</tr><tr>|\n",
      "|\t\t\t<td>ASALTO</td...|\n",
      "|         \t\t</tr><tr>|\n",
      "|\t\t\t<td>ASALTO</td...|\n",
      "|         \t\t</tr><tr>|\n",
      "|\t\t\t<td>ASALTO</td...|\n",
      "|         \t\t</tr><tr>|\n",
      "|\t\t\t<td>ASALTO</td...|\n",
      "|         \t\t</tr><tr>|\n",
      "|\t\t\t<td>ASALTO</td...|\n",
      "|         \t\t</tr><tr>|\n",
      "|\t\t\t<td>ASALTO</td...|\n",
      "|         \t\t</tr><tr>|\n",
      "+--------------------+\n",
      "only showing top 20 rows\n",
      "\n",
      "root\n",
      " |-- <div>: string (nullable = true)\n",
      "\n"
     ]
    }
   ],
   "source": [
    "emp_csv.show()\n",
    "emp_csv.printSchema()"
   ]
  },
  {
   "cell_type": "markdown",
   "metadata": {},
   "source": [
    "Se necesita leer mejor el xls por medio de un biblioteca"
   ]
  }
 ],
 "metadata": {
  "kernelspec": {
   "display_name": "Python 3",
   "language": "python",
   "name": "python3"
  },
  "language_info": {
   "codemirror_mode": {
    "name": "ipython",
    "version": 3
   },
   "file_extension": ".py",
   "mimetype": "text/x-python",
   "name": "python",
   "nbconvert_exporter": "python",
   "pygments_lexer": "ipython3",
   "version": "3.8.5"
  }
 },
 "nbformat": 4,
 "nbformat_minor": 4
}
